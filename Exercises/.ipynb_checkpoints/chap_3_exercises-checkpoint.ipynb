{
 "cells": [
  {
   "cell_type": "code",
   "execution_count": 44,
   "metadata": {},
   "outputs": [
    {
     "data": {
      "text/html": [
       "<style>.container { width:100% !important; }</style>"
      ],
      "text/plain": [
       "<IPython.core.display.HTML object>"
      ]
     },
     "metadata": {},
     "output_type": "display_data"
    }
   ],
   "source": [
    "from sklearn.datasets import fetch_openml \n",
    "\n",
    "import numpy as np \n",
    "\n",
    "import matplotlib \n",
    "import matplotlib.pyplot as plt \n",
    "%matplotlib inline \n",
    "\n",
    "from sklearn.preprocessing import StandardScaler\n",
    "from sklearn.pipeline import Pipeline\n",
    "from sklearn.\n",
    "\n",
    "from IPython.core.display import display, HTML\n",
    "display(HTML(\"<style>.container { width:100% !important; }</style>\"))"
   ]
  },
  {
   "cell_type": "markdown",
   "metadata": {},
   "source": [
    "## 1. Build a classifier for MNSIT that achieves over 97% accuracy (KNeighborsClassifier)\n",
    "\n",
    "Referencing Chap2. notebook for base code"
   ]
  },
  {
   "cell_type": "code",
   "execution_count": 23,
   "metadata": {},
   "outputs": [],
   "source": [
    "## Actually scratch that - get the data, clean split etc... \n",
    "mnist = fetch_openml('mnist_784', version=1, cache=True)\n",
    "mnist.target = mnist.target.astype(np.int8) # default is returned as string "
   ]
  },
  {
   "cell_type": "code",
   "execution_count": 24,
   "metadata": {},
   "outputs": [],
   "source": [
    "## Sort the target variables (done to get same dataset because fetch_ml deprecated)\n",
    "## 'Rebuilding the dataset' with train and test splits \n",
    "def sort_by_target(mnist, end_train_index):\n",
    "    reorder_train = np.array(sorted([(target, i) for i, target in enumerate(mnist.target[:end_train_index])]))[:,-1] # Just select index \n",
    "    reorder_test = np.array(sorted([(target, i) for i, target in enumerate(mnist.target[end_train_index:])]))[:,-1]\n",
    "    mnist.data[:end_train_index] = mnist.data[reorder_train]\n",
    "    mnist.target[:end_train_index] = mnist.target[reorder_train]\n",
    "    mnist.data[end_train_index:] = mnist.data[reorder_test + end_train_index]\n",
    "    mnist.target[end_train_index:] = mnist.target[reorder_test + end_train_index]\n",
    "\n",
    "    \n",
    "end_train_index = 60000\n",
    "sort_by_target(mnist, end_train_index)"
   ]
  },
  {
   "cell_type": "code",
   "execution_count": 42,
   "metadata": {},
   "outputs": [],
   "source": [
    "## Get the target and response variable, then make sure every fold has a healthy variaty of labels in the data \n",
    "X, y = mnist.data, mnist.target\n",
    "\n",
    "# Get your data / target train and test sets + shuffle for every fold \n",
    "X_train, X_test, y_train, y_test = X[:end_train_index], X[end_train_index:], y[:end_train_index], y[end_train_index:]\n",
    "shuffled_indices = np.random.permutation(end_train_index)\n",
    "X_train, y_train = X_train[shuffled_indices], y_train[shuffled_indices]"
   ]
  },
  {
   "cell_type": "code",
   "execution_count": 49,
   "metadata": {},
   "outputs": [],
   "source": [
    "## Additional data manips for KNN \n",
    "## 1. Scale the data \n",
    "## ..\n",
    "num_pipeline = Pipeline([\n",
    "    ('std_scaler', StandardScaler())\n",
    "])\n",
    "X_train_tr = num_pipeline.fit_transform(X_train.astype(np.float64))\n",
    "\n"
   ]
  },
  {
   "cell_type": "code",
   "execution_count": null,
   "metadata": {},
   "outputs": [],
   "source": []
  }
 ],
 "metadata": {
  "kernelspec": {
   "display_name": "Python 3",
   "language": "python",
   "name": "python3"
  },
  "language_info": {
   "codemirror_mode": {
    "name": "ipython",
    "version": 3
   },
   "file_extension": ".py",
   "mimetype": "text/x-python",
   "name": "python",
   "nbconvert_exporter": "python",
   "pygments_lexer": "ipython3",
   "version": "3.7.2"
  }
 },
 "nbformat": 4,
 "nbformat_minor": 2
}
