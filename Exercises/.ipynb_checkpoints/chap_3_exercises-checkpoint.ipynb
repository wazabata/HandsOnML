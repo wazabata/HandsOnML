{
 "cells": [
  {
   "cell_type": "code",
   "execution_count": 3,
   "metadata": {},
   "outputs": [
    {
     "data": {
      "text/html": [
       "<style>.container { width:100% !important; }</style>"
      ],
      "text/plain": [
       "<IPython.core.display.HTML object>"
      ]
     },
     "metadata": {},
     "output_type": "display_data"
    }
   ],
   "source": [
    "from sklearn.datasets import fetch_openml \n",
    "\n",
    "import numpy as np \n",
    "import pandas as pd \n",
    "\n",
    "import matplotlib \n",
    "import matplotlib.pyplot as plt \n",
    "%matplotlib inline \n",
    "\n",
    "from sklearn.preprocessing import StandardScaler\n",
    "from sklearn.pipeline import Pipeline\n",
    "from sklearn.neighbors import KNeighborsClassifier\n",
    "from sklearn.model_selection import cross_val_score, GridSearchCV\n",
    "\n",
    "## For exercise 2 - shifting images\n",
    "from scipy.ndimage.interpolation import shift\n",
    "\n",
    "\n",
    "from IPython.core.display import display, HTML\n",
    "display(HTML(\"<style>.container { width:100% !important; }</style>\"))"
   ]
  },
  {
   "cell_type": "markdown",
   "metadata": {},
   "source": [
    "## 1. Build a classifier for MNSIT that achieves over 97% accuracy (KNeighborsClassifier)\n",
    "\n",
    "Referencing Chap2. notebook for base code"
   ]
  },
  {
   "cell_type": "code",
   "execution_count": 4,
   "metadata": {},
   "outputs": [],
   "source": [
    "## Actually scratch that - get the data, clean split etc... \n",
    "mnist = fetch_openml('mnist_784', version=1, cache=True)\n",
    "mnist.target = mnist.target.astype(np.int8) # default is returned as string "
   ]
  },
  {
   "cell_type": "code",
   "execution_count": 5,
   "metadata": {},
   "outputs": [],
   "source": [
    "## Sort the target variables (done to get same dataset because fetch_ml deprecated)\n",
    "## 'Rebuilding the dataset' with train and test splits \n",
    "def sort_by_target(mnist, end_train_index):\n",
    "    reorder_train = np.array(sorted([(target, i) for i, target in enumerate(mnist.target[:end_train_index])]))[:,-1] # Just select index \n",
    "    reorder_test = np.array(sorted([(target, i) for i, target in enumerate(mnist.target[end_train_index:])]))[:,-1]\n",
    "    mnist.data[:end_train_index] = mnist.data[reorder_train]\n",
    "    mnist.target[:end_train_index] = mnist.target[reorder_train]\n",
    "    mnist.data[end_train_index:] = mnist.data[reorder_test + end_train_index]\n",
    "    mnist.target[end_train_index:] = mnist.target[reorder_test + end_train_index]\n",
    "\n",
    "    \n",
    "end_train_index = 60000\n",
    "sort_by_target(mnist, end_train_index)"
   ]
  },
  {
   "cell_type": "code",
   "execution_count": 6,
   "metadata": {},
   "outputs": [],
   "source": [
    "## Get the target and response variable, then make sure every fold has a healthy variaty of labels in the data \n",
    "X, y = mnist.data, mnist.target\n",
    "\n",
    "# Get your data / target train and test sets + shuffle for every fold \n",
    "X_train, X_test, y_train, y_test = X[:end_train_index], X[end_train_index:], y[:end_train_index], y[end_train_index:]\n",
    "shuffled_indices = np.random.permutation(end_train_index)\n",
    "X_train, y_train = X_train[shuffled_indices], y_train[shuffled_indices]"
   ]
  },
  {
   "cell_type": "code",
   "execution_count": 7,
   "metadata": {},
   "outputs": [],
   "source": [
    "## Additional data manips for KNN \n",
    "## 1. Scale the data \n",
    "## ..\n",
    "num_pipeline = Pipeline([\n",
    "    ('std_scaler', StandardScaler())\n",
    "])\n",
    "X_train_tr = num_pipeline.fit_transform(X_train.astype(np.float64))\n"
   ]
  },
  {
   "cell_type": "code",
   "execution_count": 8,
   "metadata": {},
   "outputs": [
    {
     "name": "stdout",
     "output_type": "stream",
     "text": [
      "[0]\n"
     ]
    },
    {
     "data": {
      "text/plain": [
       "<matplotlib.image.AxesImage at 0x1072a4588>"
      ]
     },
     "execution_count": 8,
     "metadata": {},
     "output_type": "execute_result"
    },
    {
     "data": {
      "image/png": "[encoded data removed]",
      "text/plain": [
       "<Figure size 432x288 with 1 Axes>"
      ]
     },
     "metadata": {
      "needs_background": "light"
     },
     "output_type": "display_data"
    }
   ],
   "source": [
    "## Fit simple KNN model - set baseline (just with default values)\n",
    "knn_clf = KNeighborsClassifier() \n",
    "# cross_val_score(knn_clf, X_train, y_train, cv = 3, scoring='accuracy')## Check accuracy with cross val - why is it so slow?? \n",
    "\n",
    "# Simple fit / predict for now\n",
    "knn_clf.fit(X_train, y_train)\n",
    "y_knn_pred = knn_clf.predict([X_test[3]])\n",
    "print(y_knn_pred)\n",
    "plt.imshow(X_test[3].reshape(28,28), cmap = matplotlib.cm.binary, \n",
    "          interpolation='nearest')\n"
   ]
  },
  {
   "cell_type": "code",
   "execution_count": 9,
   "metadata": {},
   "outputs": [],
   "source": [
    "# ## Looking at parameters for KNeighborsClassifier: \n",
    "# ## -> n_neighbors, weights.. \n",
    "# ## Set parameters first, then train with GridSearch to find best params.. \n",
    "# param_grid = [{'weights':[\"uniform\",\"distance\"], 'n_neighbors':[3,4,5]}]\n",
    "# knn_clf = KNeighborsClassifier()\n",
    "# grid_search = GridSearchCV(knn_clf, param_grid, cv = 1, verbose = 3) ## Verbose controls how long message is\n",
    "# grid_search.fit(X_train, y_train)"
   ]
  },
  {
   "cell_type": "markdown",
   "metadata": {},
   "source": [
    "## Exercise 2"
   ]
  },
  {
   "cell_type": "raw",
   "metadata": {},
   "source": [
    "Write a function that can shift an MNIST image in any direction (left, right, up, down) \n",
    "by one pixel. Then, for each image in the training set, create four shifted copies (one per direction) and add the, to\n",
    "the training set. Finally train, your best model on this expanded training set and measure its accuracy on the test set. \n",
    "You should observe that your model performs even better now! This technique of artifically growing the training set \n",
    "is called data augmentation or training set expansion"
   ]
  },
  {
   "cell_type": "code",
   "execution_count": 35,
   "metadata": {},
   "outputs": [],
   "source": [
    "## 1. Write function \n",
    "## @note: Can plot accuracy vs. number of directions added \n",
    "## .. e.g. Add one random direction, two radom directions ... all directions. \n",
    "\n",
    "# ## Test shifting one random image, say X_train[2]\n",
    "\n",
    "# plt.imshow(X_train[2].reshape(28,28), cmap = matplotlib.cm.binary, \n",
    "#           interpolation='nearest')\n",
    "# # print(X_train[2])\n",
    "# test = shift(input=X_train[2].reshape(28,28), shift=(10,0)).reshape(784,)\n",
    "# print(type(test))\n",
    "\n",
    "# # plt.imshow(test, cmap = matplotlib.cm.binary, \n",
    "# #           interpolation='nearest')\n",
    "\n",
    "# print(X_train.shape)\n",
    "# # print(type([1,2]))\n",
    "# print(X_train[2].reshape(28,28).reshape(784,).shape)\n",
    "# print(X_train[2].shape)\n",
    "\n",
    "# def shift_mnist_dataframe(X_train, return_shifted_direction='all'):\n",
    "#     '''\n",
    "#     return_shifted_direction argument can be 'left','right','up','down' and 'all' (default)\n",
    "#     For now, just return everything \n",
    "#     '''\n",
    "    \n",
    "## Works, but not exactly clean + returns list of dataframes... a mess basically \n",
    "# def shift_row(X_train_row):\n",
    "#     new_X_rows = pd.DataFrame(X_train_row)\n",
    "# #     print(\"Original Shape: \", new_X_rows.shape)\n",
    "\n",
    "#     for shift_tuple in zip([-1,1,0,0],[0,0,-1,1]):\n",
    "# #         print(\"Shifting in direction: \", shift_tuple)\n",
    "# #         print(\"Row: \", X_train_row.shape)\n",
    "# #         print(\"DATA:\",X_train_row)\n",
    "#         shifted_image = pd.Series(shift(input=X_train_row.reshape(28,28), shift=shift_tuple).reshape(784))\n",
    "#         new_X_rows = pd.concat([new_X_rows, shifted_image], axis=1)\n",
    "# #         print(new_X_rows.shape)\n",
    "#     return new_X_rows    \n",
    "\n",
    "\n",
    "# X_train_expanded = []\n",
    "# for index, image in enumerate(X_train): \n",
    "# #     if (index % 100 == 0): print(\"Shifting image in index: \", index)\n",
    "#     X_train_expanded.append(shift_row(image))\n",
    "#     print(len(X_train_expanded))\n",
    "\n",
    "\n",
    "    \n",
    "        \n",
    "        \n",
    "# print(pd.DataFrame(X_train))\n",
    "# shift_mnist_dataframe(pd.DataFrame(X_train))\n"
   ]
  },
  {
   "cell_type": "code",
   "execution_count": 44,
   "metadata": {},
   "outputs": [],
   "source": [
    "def shift_image(image, dx,dy): \n",
    "    shifted_image = shift(input = image.reshape((28,28)), shift=[dx,dy], cval=0, mode='constant')\n",
    "    return(shifted_image.reshape([-1]))"
   ]
  },
  {
   "cell_type": "code",
   "execution_count": 49,
   "metadata": {},
   "outputs": [
    {
     "data": {
      "image/png": "[encoded data removed]",
      "text/plain": [
       "<Figure size 864x216 with 3 Axes>"
      ]
     },
     "metadata": {
      "needs_background": "light"
     },
     "output_type": "display_data"
    }
   ],
   "source": [
    "## Test shift_image() on train set and plot to see results.. \n",
    "image = X_train[100]\n",
    "image_down = shift_image(image,0,5)\n",
    "image_right = shift_image(image,5,0)\n",
    "\n",
    "plt.figure(figsize=(12,3))\n",
    "plt.subplot(131)\n",
    "plt.title(\"Raw Image\")\n",
    "plt.imshow(image.reshape((28,28)), cmap=matplotlib.cm.binary, interpolation='nearest')\n",
    "\n",
    "plt.subplot(132)\n",
    "plt.title(\"Image Shifted Down\")\n",
    "plt.imshow(image_down.reshape((28,28)), cmap=matplotlib.cm.binary, interpolation='nearest')\n",
    "\n",
    "plt.subplot(133)\n",
    "plt.title(\"Raw Shifted Right\")\n",
    "plt.imshow(image_right.reshape((28,28)), cmap=matplotlib.cm.binary, interpolation='nearest');\n",
    "\n",
    "plt.show()\n"
   ]
  },
  {
   "cell_type": "code",
   "execution_count": 52,
   "metadata": {},
   "outputs": [],
   "source": [
    "X_train_augmented = [image for image in X_train]\n",
    "y_train_augmented = [label for label in y_train]\n",
    "\n",
    "for index, (image,label) in zip(X_train,y_train): \n",
    "    for dx,dy in enumerate(zip([1,-1,0,0],[0,0,1,-1])):\n",
    "        X_train_augmented.append(shift_image(image,dx,dy))\n",
    "        y_train_augmented.append(label)"
   ]
  },
  {
   "cell_type": "code",
   "execution_count": 57,
   "metadata": {},
   "outputs": [
    {
     "data": {
      "text/plain": [
       "(300000, 784)"
      ]
     },
     "execution_count": 57,
     "metadata": {},
     "output_type": "execute_result"
    }
   ],
   "source": [
    "X_train_augmented = np.array(X_train_augmented)\n",
    "y_train_augmented = np.array(y_train_augmented)"
   ]
  },
  {
   "cell_type": "code",
   "execution_count": null,
   "metadata": {},
   "outputs": [],
   "source": []
  }
 ],
 "metadata": {
  "kernelspec": {
   "display_name": "Python 3",
   "language": "python",
   "name": "python3"
  },
  "language_info": {
   "codemirror_mode": {
    "name": "ipython",
    "version": 3
   },
   "file_extension": ".py",
   "mimetype": "text/x-python",
   "name": "python",
   "nbconvert_exporter": "python",
   "pygments_lexer": "ipython3",
   "version": "3.7.2"
  }
 },
 "nbformat": 4,
 "nbformat_minor": 2
}
