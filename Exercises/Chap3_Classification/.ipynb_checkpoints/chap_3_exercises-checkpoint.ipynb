{
 "cells": [
  {
   "cell_type": "code",
   "execution_count": 75,
   "metadata": {},
   "outputs": [
    {
     "data": {
      "text/html": [
       "<style>.container { width:100% !important; }</style>"
      ],
      "text/plain": [
       "<IPython.core.display.HTML object>"
      ]
     },
     "metadata": {},
     "output_type": "display_data"
    }
   ],
   "source": [
    "from sklearn.datasets import fetch_openml \n",
    "\n",
    "import numpy as np \n",
    "import pandas as pd \n",
    "\n",
    "import matplotlib \n",
    "import matplotlib.pyplot as plt \n",
    "%matplotlib inline \n",
    "\n",
    "from sklearn.preprocessing import StandardScaler\n",
    "from sklearn.pipeline import Pipeline\n",
    "from sklearn.neighbors import KNeighborsClassifier\n",
    "from sklearn.model_selection import cross_val_score, GridSearchCV\n",
    "\n",
    "## For exercise 2 - shifting images\n",
    "from scipy.ndimage.interpolation import shift\n",
    "\n",
    "## For exercise 3 - Kaggle comp \n",
    "from sklearn.base import BaseEstimator, TransformerMixin\n",
    "from sklearn.pipeline import Pipeline\n",
    "from sklearn.impute import SimpleImputer\n",
    "from sklearn.preprocessing import OneHotEncoder\n",
    "from sklearn.pipeline import FeatureUnion\n",
    "from sklearn.model_selection import cross_val_score\n",
    "from sklearn.ensemble import RandomForestClassifier\n",
    "\n",
    "\n",
    "\n",
    "\n",
    "from IPython.core.display import display, HTML\n",
    "display(HTML(\"<style>.container { width:100% !important; }</style>\"))"
   ]
  },
  {
   "cell_type": "markdown",
   "metadata": {},
   "source": [
    "## 1. Build a classifier for MNSIT that achieves over 97% accuracy (KNeighborsClassifier)\n",
    "\n",
    "Referencing Chap2. notebook for base code"
   ]
  },
  {
   "cell_type": "code",
   "execution_count": 4,
   "metadata": {},
   "outputs": [],
   "source": [
    "## Actually scratch that - get the data, clean split etc... \n",
    "mnist = fetch_openml('mnist_784', version=1, cache=True)\n",
    "mnist.target = mnist.target.astype(np.int8) # default is returned as string "
   ]
  },
  {
   "cell_type": "code",
   "execution_count": 5,
   "metadata": {},
   "outputs": [],
   "source": [
    "## Sort the target variables (done to get same dataset because fetch_ml deprecated)\n",
    "## 'Rebuilding the dataset' with train and test splits \n",
    "def sort_by_target(mnist, end_train_index):\n",
    "    reorder_train = np.array(sorted([(target, i) for i, target in enumerate(mnist.target[:end_train_index])]))[:,-1] # Just select index \n",
    "    reorder_test = np.array(sorted([(target, i) for i, target in enumerate(mnist.target[end_train_index:])]))[:,-1]\n",
    "    mnist.data[:end_train_index] = mnist.data[reorder_train]\n",
    "    mnist.target[:end_train_index] = mnist.target[reorder_train]\n",
    "    mnist.data[end_train_index:] = mnist.data[reorder_test + end_train_index]\n",
    "    mnist.target[end_train_index:] = mnist.target[reorder_test + end_train_index]\n",
    "\n",
    "    \n",
    "end_train_index = 60000\n",
    "sort_by_target(mnist, end_train_index)"
   ]
  },
  {
   "cell_type": "code",
   "execution_count": 6,
   "metadata": {},
   "outputs": [],
   "source": [
    "## Get the target and response variable, then make sure every fold has a healthy variaty of labels in the data \n",
    "X, y = mnist.data, mnist.target\n",
    "\n",
    "# Get your data / target train and test sets + shuffle for every fold \n",
    "X_train, X_test, y_train, y_test = X[:end_train_index], X[end_train_index:], y[:end_train_index], y[end_train_index:]\n",
    "shuffled_indices = np.random.permutation(end_train_index)\n",
    "X_train, y_train = X_train[shuffled_indices], y_train[shuffled_indices]"
   ]
  },
  {
   "cell_type": "code",
   "execution_count": 7,
   "metadata": {},
   "outputs": [],
   "source": [
    "## Additional data manips for KNN \n",
    "## 1. Scale the data \n",
    "## ..\n",
    "num_pipeline = Pipeline([\n",
    "    ('std_scaler', StandardScaler())\n",
    "])\n",
    "X_train_tr = num_pipeline.fit_transform(X_train.astype(np.float64))\n"
   ]
  },
  {
   "cell_type": "code",
   "execution_count": 8,
   "metadata": {},
   "outputs": [
    {
     "name": "stdout",
     "output_type": "stream",
     "text": [
      "[0]\n"
     ]
    },
    {
     "data": {
      "text/plain": [
       "<matplotlib.image.AxesImage at 0x1072a4588>"
      ]
     },
     "execution_count": 8,
     "metadata": {},
     "output_type": "execute_result"
    },
    {
     "data": {
      "image/png": "[encoded data removed]",
      "text/plain": [
       "<Figure size 432x288 with 1 Axes>"
      ]
     },
     "metadata": {
      "needs_background": "light"
     },
     "output_type": "display_data"
    }
   ],
   "source": [
    "## Fit simple KNN model - set baseline (just with default values)\n",
    "knn_clf = KNeighborsClassifier() \n",
    "# cross_val_score(knn_clf, X_train, y_train, cv = 3, scoring='accuracy')## Check accuracy with cross val - why is it so slow?? \n",
    "\n",
    "# Simple fit / predict for now\n",
    "knn_clf.fit(X_train, y_train)\n",
    "y_knn_pred = knn_clf.predict([X_test[3]])\n",
    "print(y_knn_pred)\n",
    "plt.imshow(X_test[3].reshape(28,28), cmap = matplotlib.cm.binary, \n",
    "          interpolation='nearest')\n"
   ]
  },
  {
   "cell_type": "code",
   "execution_count": 9,
   "metadata": {},
   "outputs": [],
   "source": [
    "# ## Looking at parameters for KNeighborsClassifier: \n",
    "# ## -> n_neighbors, weights.. \n",
    "# ## Set parameters first, then train with GridSearch to find best params.. \n",
    "# param_grid = [{'weights':[\"uniform\",\"distance\"], 'n_neighbors':[3,4,5]}]\n",
    "# knn_clf = KNeighborsClassifier()\n",
    "# grid_search = GridSearchCV(knn_clf, param_grid, cv = 1, verbose = 3) ## Verbose controls how long message is\n",
    "# grid_search.fit(X_train, y_train)"
   ]
  },
  {
   "cell_type": "markdown",
   "metadata": {},
   "source": [
    "## Exercise 2"
   ]
  },
  {
   "cell_type": "raw",
   "metadata": {},
   "source": [
    "Write a function that can shift an MNIST image in any direction (left, right, up, down) \n",
    "by one pixel. Then, for each image in the training set, create four shifted copies (one per direction) and add the, to\n",
    "the training set. Finally train, your best model on this expanded training set and measure its accuracy on the test set. \n",
    "You should observe that your model performs even better now! This technique of artifically growing the training set \n",
    "is called data augmentation or training set expansion"
   ]
  },
  {
   "cell_type": "code",
   "execution_count": 35,
   "metadata": {},
   "outputs": [],
   "source": [
    "## 1. Write function \n",
    "## @note: Can plot accuracy vs. number of directions added \n",
    "## .. e.g. Add one random direction, two radom directions ... all directions. \n",
    "\n",
    "# ## Test shifting one random image, say X_train[2]\n",
    "\n",
    "# plt.imshow(X_train[2].reshape(28,28), cmap = matplotlib.cm.binary, \n",
    "#           interpolation='nearest')\n",
    "# # print(X_train[2])\n",
    "# test = shift(input=X_train[2].reshape(28,28), shift=(10,0)).reshape(784,)\n",
    "# print(type(test))\n",
    "\n",
    "# # plt.imshow(test, cmap = matplotlib.cm.binary, \n",
    "# #           interpolation='nearest')\n",
    "\n",
    "# print(X_train.shape)\n",
    "# # print(type([1,2]))\n",
    "# print(X_train[2].reshape(28,28).reshape(784,).shape)\n",
    "# print(X_train[2].shape)\n",
    "\n",
    "# def shift_mnist_dataframe(X_train, return_shifted_direction='all'):\n",
    "#     '''\n",
    "#     return_shifted_direction argument can be 'left','right','up','down' and 'all' (default)\n",
    "#     For now, just return everything \n",
    "#     '''\n",
    "    \n",
    "## Works, but not exactly clean + returns list of dataframes... a mess basically \n",
    "# def shift_row(X_train_row):\n",
    "#     new_X_rows = pd.DataFrame(X_train_row)\n",
    "# #     print(\"Original Shape: \", new_X_rows.shape)\n",
    "\n",
    "#     for shift_tuple in zip([-1,1,0,0],[0,0,-1,1]):\n",
    "# #         print(\"Shifting in direction: \", shift_tuple)\n",
    "# #         print(\"Row: \", X_train_row.shape)\n",
    "# #         print(\"DATA:\",X_train_row)\n",
    "#         shifted_image = pd.Series(shift(input=X_train_row.reshape(28,28), shift=shift_tuple).reshape(784))\n",
    "#         new_X_rows = pd.concat([new_X_rows, shifted_image], axis=1)\n",
    "# #         print(new_X_rows.shape)\n",
    "#     return new_X_rows    \n",
    "\n",
    "\n",
    "# X_train_expanded = []\n",
    "# for index, image in enumerate(X_train): \n",
    "# #     if (index % 100 == 0): print(\"Shifting image in index: \", index)\n",
    "#     X_train_expanded.append(shift_row(image))\n",
    "#     print(len(X_train_expanded))\n",
    "\n",
    "\n",
    "    \n",
    "        \n",
    "        \n",
    "# print(pd.DataFrame(X_train))\n",
    "# shift_mnist_dataframe(pd.DataFrame(X_train))\n"
   ]
  },
  {
   "cell_type": "code",
   "execution_count": 44,
   "metadata": {},
   "outputs": [],
   "source": [
    "def shift_image(image, dx,dy): \n",
    "    shifted_image = shift(input = image.reshape((28,28)), shift=[dx,dy], cval=0, mode='constant')\n",
    "    return(shifted_image.reshape([-1]))"
   ]
  },
  {
   "cell_type": "code",
   "execution_count": 49,
   "metadata": {},
   "outputs": [
    {
     "data": {
      "image/png": "[encoded data removed]",
      "text/plain": [
       "<Figure size 864x216 with 3 Axes>"
      ]
     },
     "metadata": {
      "needs_background": "light"
     },
     "output_type": "display_data"
    }
   ],
   "source": [
    "## Test shift_image() on train set and plot to see results.. \n",
    "image = X_train[100]\n",
    "image_down = shift_image(image,0,5)\n",
    "image_right = shift_image(image,5,0)\n",
    "\n",
    "plt.figure(figsize=(12,3))\n",
    "plt.subplot(131)\n",
    "plt.title(\"Raw Image\")\n",
    "plt.imshow(image.reshape((28,28)), cmap=matplotlib.cm.binary, interpolation='nearest')\n",
    "\n",
    "plt.subplot(132)\n",
    "plt.title(\"Image Shifted Down\")\n",
    "plt.imshow(image_down.reshape((28,28)), cmap=matplotlib.cm.binary, interpolation='nearest')\n",
    "\n",
    "plt.subplot(133)\n",
    "plt.title(\"Raw Shifted Right\")\n",
    "plt.imshow(image_right.reshape((28,28)), cmap=matplotlib.cm.binary, interpolation='nearest');\n",
    "\n",
    "plt.show()\n"
   ]
  },
  {
   "cell_type": "code",
   "execution_count": 52,
   "metadata": {},
   "outputs": [],
   "source": [
    "X_train_augmented = [image for image in X_train]\n",
    "y_train_augmented = [label for label in y_train]\n",
    "\n",
    "for index, (image,label) in zip(X_train,y_train): \n",
    "    for dx,dy in enumerate(zip([1,-1,0,0],[0,0,1,-1])):\n",
    "        X_train_augmented.append(shift_image(image,dx,dy))\n",
    "        y_train_augmented.append(label)"
   ]
  },
  {
   "cell_type": "code",
   "execution_count": 64,
   "metadata": {},
   "outputs": [],
   "source": [
    "# X_train_augmented is originally an array of ndarray\n",
    "X_train_augmented = np.array(X_train_augmented) \n",
    "y_train_augmented = np.array(y_train_augmented)"
   ]
  },
  {
   "cell_type": "code",
   "execution_count": 72,
   "metadata": {},
   "outputs": [],
   "source": [
    "shuffle_index = np.random.permutation(len(X_train_augmented))\n",
    "X_train_augmented = X_train_augmented[shuffle_index]\n",
    "y_train_augmented = y_train_augmented[shuffle_index]"
   ]
  },
  {
   "cell_type": "markdown",
   "metadata": {},
   "source": [
    "## Titanic Kaggle"
   ]
  },
  {
   "cell_type": "code",
   "execution_count": 4,
   "metadata": {},
   "outputs": [],
   "source": [
    "train = pd.read_csv(\"titanic/train.csv\")\n",
    "test = pd.read_csv(\"titanic/test.csv\")"
   ]
  },
  {
   "cell_type": "code",
   "execution_count": 8,
   "metadata": {},
   "outputs": [
    {
     "data": {
      "text/html": [
       "<div>\n",
       "<style scoped>\n",
       "    .dataframe tbody tr th:only-of-type {\n",
       "        vertical-align: middle;\n",
       "    }\n",
       "\n",
       "    .dataframe tbody tr th {\n",
       "        vertical-align: top;\n",
       "    }\n",
       "\n",
       "    .dataframe thead th {\n",
       "        text-align: right;\n",
       "    }\n",
       "</style>\n",
       "<table border=\"1\" class=\"dataframe\">\n",
       "  <thead>\n",
       "    <tr style=\"text-align: right;\">\n",
       "      <th></th>\n",
       "      <th>PassengerId</th>\n",
       "      <th>Survived</th>\n",
       "      <th>Pclass</th>\n",
       "      <th>Name</th>\n",
       "      <th>Sex</th>\n",
       "      <th>Age</th>\n",
       "      <th>SibSp</th>\n",
       "      <th>Parch</th>\n",
       "      <th>Ticket</th>\n",
       "      <th>Fare</th>\n",
       "      <th>Cabin</th>\n",
       "      <th>Embarked</th>\n",
       "    </tr>\n",
       "  </thead>\n",
       "  <tbody>\n",
       "    <tr>\n",
       "      <th>0</th>\n",
       "      <td>1</td>\n",
       "      <td>0</td>\n",
       "      <td>3</td>\n",
       "      <td>Braund, Mr. Owen Harris</td>\n",
       "      <td>male</td>\n",
       "      <td>22.0</td>\n",
       "      <td>1</td>\n",
       "      <td>0</td>\n",
       "      <td>A/5 21171</td>\n",
       "      <td>7.2500</td>\n",
       "      <td>NaN</td>\n",
       "      <td>S</td>\n",
       "    </tr>\n",
       "    <tr>\n",
       "      <th>1</th>\n",
       "      <td>2</td>\n",
       "      <td>1</td>\n",
       "      <td>1</td>\n",
       "      <td>Cumings, Mrs. John Bradley (Florence Briggs Th...</td>\n",
       "      <td>female</td>\n",
       "      <td>38.0</td>\n",
       "      <td>1</td>\n",
       "      <td>0</td>\n",
       "      <td>PC 17599</td>\n",
       "      <td>71.2833</td>\n",
       "      <td>C85</td>\n",
       "      <td>C</td>\n",
       "    </tr>\n",
       "    <tr>\n",
       "      <th>2</th>\n",
       "      <td>3</td>\n",
       "      <td>1</td>\n",
       "      <td>3</td>\n",
       "      <td>Heikkinen, Miss. Laina</td>\n",
       "      <td>female</td>\n",
       "      <td>26.0</td>\n",
       "      <td>0</td>\n",
       "      <td>0</td>\n",
       "      <td>STON/O2. 3101282</td>\n",
       "      <td>7.9250</td>\n",
       "      <td>NaN</td>\n",
       "      <td>S</td>\n",
       "    </tr>\n",
       "    <tr>\n",
       "      <th>3</th>\n",
       "      <td>4</td>\n",
       "      <td>1</td>\n",
       "      <td>1</td>\n",
       "      <td>Futrelle, Mrs. Jacques Heath (Lily May Peel)</td>\n",
       "      <td>female</td>\n",
       "      <td>35.0</td>\n",
       "      <td>1</td>\n",
       "      <td>0</td>\n",
       "      <td>113803</td>\n",
       "      <td>53.1000</td>\n",
       "      <td>C123</td>\n",
       "      <td>S</td>\n",
       "    </tr>\n",
       "    <tr>\n",
       "      <th>4</th>\n",
       "      <td>5</td>\n",
       "      <td>0</td>\n",
       "      <td>3</td>\n",
       "      <td>Allen, Mr. William Henry</td>\n",
       "      <td>male</td>\n",
       "      <td>35.0</td>\n",
       "      <td>0</td>\n",
       "      <td>0</td>\n",
       "      <td>373450</td>\n",
       "      <td>8.0500</td>\n",
       "      <td>NaN</td>\n",
       "      <td>S</td>\n",
       "    </tr>\n",
       "  </tbody>\n",
       "</table>\n",
       "</div>"
      ],
      "text/plain": [
       "   PassengerId  Survived  Pclass  \\\n",
       "0            1         0       3   \n",
       "1            2         1       1   \n",
       "2            3         1       3   \n",
       "3            4         1       1   \n",
       "4            5         0       3   \n",
       "\n",
       "                                                Name     Sex   Age  SibSp  \\\n",
       "0                            Braund, Mr. Owen Harris    male  22.0      1   \n",
       "1  Cumings, Mrs. John Bradley (Florence Briggs Th...  female  38.0      1   \n",
       "2                             Heikkinen, Miss. Laina  female  26.0      0   \n",
       "3       Futrelle, Mrs. Jacques Heath (Lily May Peel)  female  35.0      1   \n",
       "4                           Allen, Mr. William Henry    male  35.0      0   \n",
       "\n",
       "   Parch            Ticket     Fare Cabin Embarked  \n",
       "0      0         A/5 21171   7.2500   NaN        S  \n",
       "1      0          PC 17599  71.2833   C85        C  \n",
       "2      0  STON/O2. 3101282   7.9250   NaN        S  \n",
       "3      0            113803  53.1000  C123        S  \n",
       "4      0            373450   8.0500   NaN        S  "
      ]
     },
     "execution_count": 8,
     "metadata": {},
     "output_type": "execute_result"
    }
   ],
   "source": [
    "## My take \n",
    "## Explore the data \n",
    "train.head()"
   ]
  },
  {
   "cell_type": "code",
   "execution_count": 32,
   "metadata": {},
   "outputs": [
    {
     "name": "stdout",
     "output_type": "stream",
     "text": [
      "<class 'pandas.core.frame.DataFrame'>\n",
      "RangeIndex: 891 entries, 0 to 890\n",
      "Data columns (total 12 columns):\n",
      "PassengerId    891 non-null int64\n",
      "Survived       891 non-null int64\n",
      "Pclass         891 non-null int64\n",
      "Name           891 non-null object\n",
      "Sex            891 non-null object\n",
      "Age            714 non-null float64\n",
      "SibSp          891 non-null int64\n",
      "Parch          891 non-null int64\n",
      "Ticket         891 non-null object\n",
      "Fare           891 non-null float64\n",
      "Cabin          204 non-null object\n",
      "Embarked       889 non-null object\n",
      "dtypes: float64(2), int64(5), object(5)\n",
      "memory usage: 83.6+ KB\n"
     ]
    }
   ],
   "source": [
    "## use the info() method to get a quick description fo the data \n",
    "train.info()\n",
    "\n",
    "## Ignore Name and Tickets for now - no obvious / easy way to process them now \n",
    "## Also with most cabin values being null -> ignore "
   ]
  },
  {
   "cell_type": "code",
   "execution_count": 27,
   "metadata": {
    "collapsed": true
   },
   "outputs": [
    {
     "name": "stdout",
     "output_type": "stream",
     "text": [
      "***Sex***\n",
      "male      577\n",
      "female    314\n",
      "Name: Sex, dtype: int64\n",
      "****\n",
      "\n",
      "***Ticket***\n",
      "CA. 2343             7\n",
      "347082               7\n",
      "1601                 7\n",
      "CA 2144              6\n",
      "347088               6\n",
      "3101295              6\n",
      "382652               5\n",
      "S.O.C. 14879         5\n",
      "4133                 4\n",
      "347077               4\n",
      "17421                4\n",
      "LINE                 4\n",
      "W./C. 6608           4\n",
      "2666                 4\n",
      "113781               4\n",
      "113760               4\n",
      "PC 17757             4\n",
      "19950                4\n",
      "349909               4\n",
      "PC 17755             3\n",
      "24160                3\n",
      "PC 17582             3\n",
      "13502                3\n",
      "110152               3\n",
      "347742               3\n",
      "29106                3\n",
      "230080               3\n",
      "35273                3\n",
      "PC 17760             3\n",
      "PC 17572             3\n",
      "                    ..\n",
      "W.E.P. 5734          1\n",
      "A/5 21174            1\n",
      "330959               1\n",
      "S.O.P. 1166          1\n",
      "347087               1\n",
      "C.A. 33595           1\n",
      "SOTON/O.Q. 392087    1\n",
      "3460                 1\n",
      "350036               1\n",
      "323592               1\n",
      "2694                 1\n",
      "370375               1\n",
      "349227               1\n",
      "244361               1\n",
      "SC/PARIS 2167        1\n",
      "349219               1\n",
      "343276               1\n",
      "C.A. 24580           1\n",
      "8471                 1\n",
      "A/5. 10482           1\n",
      "2223                 1\n",
      "248731               1\n",
      "112059               1\n",
      "113055               1\n",
      "110813               1\n",
      "PC 17605             1\n",
      "348124               1\n",
      "29104                1\n",
      "2686                 1\n",
      "330919               1\n",
      "Name: Ticket, Length: 681, dtype: int64\n",
      "****\n",
      "\n",
      "***Cabin***\n",
      "G6                 4\n",
      "B96 B98            4\n",
      "C23 C25 C27        4\n",
      "F33                3\n",
      "F2                 3\n",
      "D                  3\n",
      "C22 C26            3\n",
      "E101               3\n",
      "C92                2\n",
      "C93                2\n",
      "E121               2\n",
      "C123               2\n",
      "E24                2\n",
      "F G73              2\n",
      "D20                2\n",
      "E8                 2\n",
      "E33                2\n",
      "B51 B53 B55        2\n",
      "B57 B59 B63 B66    2\n",
      "B35                2\n",
      "C83                2\n",
      "B20                2\n",
      "D36                2\n",
      "B28                2\n",
      "E44                2\n",
      "C52                2\n",
      "F4                 2\n",
      "B18                2\n",
      "B58 B60            2\n",
      "D17                2\n",
      "                  ..\n",
      "T                  1\n",
      "D49                1\n",
      "C148               1\n",
      "A34                1\n",
      "C7                 1\n",
      "D21                1\n",
      "B73                1\n",
      "B102               1\n",
      "D7                 1\n",
      "A7                 1\n",
      "F G63              1\n",
      "C32                1\n",
      "B4                 1\n",
      "C45                1\n",
      "C90                1\n",
      "C70                1\n",
      "E77                1\n",
      "C101               1\n",
      "A5                 1\n",
      "A10                1\n",
      "C106               1\n",
      "C95                1\n",
      "A14                1\n",
      "A32                1\n",
      "D28                1\n",
      "E68                1\n",
      "B78                1\n",
      "C91                1\n",
      "B39                1\n",
      "A19                1\n",
      "Name: Cabin, Length: 147, dtype: int64\n",
      "****\n",
      "\n",
      "***Embarked***\n",
      "S    644\n",
      "C    168\n",
      "Q     77\n",
      "Name: Embarked, dtype: int64\n",
      "****\n",
      "\n"
     ]
    }
   ],
   "source": [
    "## Take a quick look at categorical variable coumts\n",
    "## for cols such as Sex, Cabin, Embarked, Pclass... \n",
    "categorical_cols = train.columns[train.dtypes == \"object\"].to_list()\n",
    "categorical_cols.remove('Name')\n",
    "\n",
    "for colname in categorical_cols: \n",
    "    print(\"***{}***\".format(colname))\n",
    "    print(train[colname].value_counts())\n",
    "    print(\"****\\n\")\n",
    "\n",
    "\n"
   ]
  },
  {
   "cell_type": "code",
   "execution_count": 28,
   "metadata": {},
   "outputs": [
    {
     "data": {
      "image/png": "[encoded data removed]",
      "text/plain": [
       "<Figure size 1440x1080 with 9 Axes>"
      ]
     },
     "metadata": {
      "needs_background": "light"
     },
     "output_type": "display_data"
    }
   ],
   "source": [
    "## Alternatively, plot distributions \n",
    "train.hist(bins=50, figsize=(20,15))\n",
    "plt.show()"
   ]
  },
  {
   "cell_type": "markdown",
   "metadata": {},
   "source": [
    "- Most passengers between the age of 18 and 50, losts of young children (<5) and long tail for old individuals \n",
    "- Most fares low, long tail and probably outlier for fare > 500 \n",
    "- Most people traveling alone (Parch and Sibsp) \n",
    "- PClasses even between 1 and 2, double for 3rd class "
   ]
  },
  {
   "cell_type": "code",
   "execution_count": 30,
   "metadata": {},
   "outputs": [
    {
     "data": {
      "text/plain": [
       "Survived       1.000000\n",
       "Fare           0.257307\n",
       "Parch          0.081629\n",
       "PassengerId   -0.005007\n",
       "SibSp         -0.035322\n",
       "Age           -0.077221\n",
       "Pclass        -0.338481\n",
       "Name: Survived, dtype: float64"
      ]
     },
     "execution_count": 30,
     "metadata": {},
     "output_type": "execute_result"
    }
   ],
   "source": [
    "# Look for simple correlations \n",
    "corr_matrix = train.corr() \n",
    "corr_matrix['Survived'].sort_values(ascending=False)"
   ]
  },
  {
   "cell_type": "code",
   "execution_count": 31,
   "metadata": {},
   "outputs": [
    {
     "data": {
      "text/html": [
       "<div>\n",
       "<style scoped>\n",
       "    .dataframe tbody tr th:only-of-type {\n",
       "        vertical-align: middle;\n",
       "    }\n",
       "\n",
       "    .dataframe tbody tr th {\n",
       "        vertical-align: top;\n",
       "    }\n",
       "\n",
       "    .dataframe thead th {\n",
       "        text-align: right;\n",
       "    }\n",
       "</style>\n",
       "<table border=\"1\" class=\"dataframe\">\n",
       "  <thead>\n",
       "    <tr style=\"text-align: right;\">\n",
       "      <th></th>\n",
       "      <th>PassengerId</th>\n",
       "      <th>Survived</th>\n",
       "      <th>Pclass</th>\n",
       "      <th>Age</th>\n",
       "      <th>SibSp</th>\n",
       "      <th>Parch</th>\n",
       "      <th>Fare</th>\n",
       "    </tr>\n",
       "  </thead>\n",
       "  <tbody>\n",
       "    <tr>\n",
       "      <th>count</th>\n",
       "      <td>891.000000</td>\n",
       "      <td>891.000000</td>\n",
       "      <td>891.000000</td>\n",
       "      <td>714.000000</td>\n",
       "      <td>891.000000</td>\n",
       "      <td>891.000000</td>\n",
       "      <td>891.000000</td>\n",
       "    </tr>\n",
       "    <tr>\n",
       "      <th>mean</th>\n",
       "      <td>446.000000</td>\n",
       "      <td>0.383838</td>\n",
       "      <td>2.308642</td>\n",
       "      <td>29.699118</td>\n",
       "      <td>0.523008</td>\n",
       "      <td>0.381594</td>\n",
       "      <td>32.204208</td>\n",
       "    </tr>\n",
       "    <tr>\n",
       "      <th>std</th>\n",
       "      <td>257.353842</td>\n",
       "      <td>0.486592</td>\n",
       "      <td>0.836071</td>\n",
       "      <td>14.526497</td>\n",
       "      <td>1.102743</td>\n",
       "      <td>0.806057</td>\n",
       "      <td>49.693429</td>\n",
       "    </tr>\n",
       "    <tr>\n",
       "      <th>min</th>\n",
       "      <td>1.000000</td>\n",
       "      <td>0.000000</td>\n",
       "      <td>1.000000</td>\n",
       "      <td>0.420000</td>\n",
       "      <td>0.000000</td>\n",
       "      <td>0.000000</td>\n",
       "      <td>0.000000</td>\n",
       "    </tr>\n",
       "    <tr>\n",
       "      <th>25%</th>\n",
       "      <td>223.500000</td>\n",
       "      <td>0.000000</td>\n",
       "      <td>2.000000</td>\n",
       "      <td>20.125000</td>\n",
       "      <td>0.000000</td>\n",
       "      <td>0.000000</td>\n",
       "      <td>7.910400</td>\n",
       "    </tr>\n",
       "    <tr>\n",
       "      <th>50%</th>\n",
       "      <td>446.000000</td>\n",
       "      <td>0.000000</td>\n",
       "      <td>3.000000</td>\n",
       "      <td>28.000000</td>\n",
       "      <td>0.000000</td>\n",
       "      <td>0.000000</td>\n",
       "      <td>14.454200</td>\n",
       "    </tr>\n",
       "    <tr>\n",
       "      <th>75%</th>\n",
       "      <td>668.500000</td>\n",
       "      <td>1.000000</td>\n",
       "      <td>3.000000</td>\n",
       "      <td>38.000000</td>\n",
       "      <td>1.000000</td>\n",
       "      <td>0.000000</td>\n",
       "      <td>31.000000</td>\n",
       "    </tr>\n",
       "    <tr>\n",
       "      <th>max</th>\n",
       "      <td>891.000000</td>\n",
       "      <td>1.000000</td>\n",
       "      <td>3.000000</td>\n",
       "      <td>80.000000</td>\n",
       "      <td>8.000000</td>\n",
       "      <td>6.000000</td>\n",
       "      <td>512.329200</td>\n",
       "    </tr>\n",
       "  </tbody>\n",
       "</table>\n",
       "</div>"
      ],
      "text/plain": [
       "       PassengerId    Survived      Pclass         Age       SibSp  \\\n",
       "count   891.000000  891.000000  891.000000  714.000000  891.000000   \n",
       "mean    446.000000    0.383838    2.308642   29.699118    0.523008   \n",
       "std     257.353842    0.486592    0.836071   14.526497    1.102743   \n",
       "min       1.000000    0.000000    1.000000    0.420000    0.000000   \n",
       "25%     223.500000    0.000000    2.000000   20.125000    0.000000   \n",
       "50%     446.000000    0.000000    3.000000   28.000000    0.000000   \n",
       "75%     668.500000    1.000000    3.000000   38.000000    1.000000   \n",
       "max     891.000000    1.000000    3.000000   80.000000    8.000000   \n",
       "\n",
       "            Parch        Fare  \n",
       "count  891.000000  891.000000  \n",
       "mean     0.381594   32.204208  \n",
       "std      0.806057   49.693429  \n",
       "min      0.000000    0.000000  \n",
       "25%      0.000000    7.910400  \n",
       "50%      0.000000   14.454200  \n",
       "75%      0.000000   31.000000  \n",
       "max      6.000000  512.329200  "
      ]
     },
     "execution_count": 31,
     "metadata": {},
     "output_type": "execute_result"
    }
   ],
   "source": [
    "train.describe()"
   ]
  },
  {
   "cell_type": "code",
   "execution_count": 38,
   "metadata": {},
   "outputs": [
    {
     "data": {
      "text/plain": [
       "array([[22.    ,  1.    ,  0.    ,  7.25  ],\n",
       "       [38.    ,  1.    ,  0.    , 71.2833],\n",
       "       [26.    ,  0.    ,  0.    ,  7.925 ],\n",
       "       ...,\n",
       "       [28.    ,  1.    ,  2.    , 23.45  ],\n",
       "       [26.    ,  0.    ,  0.    , 30.    ],\n",
       "       [32.    ,  0.    ,  0.    ,  7.75  ]])"
      ]
     },
     "execution_count": 38,
     "metadata": {},
     "output_type": "execute_result"
    }
   ],
   "source": [
    "## Again, write a custom transformer for sklearn to handle dataframes.. \n",
    "## It transforms the data by selecting the desired attributes \n",
    "## .. and dropping the rest, and converting the resulting df to \n",
    "## .. numpy array\n",
    "class DataFrameSelector(BaseEstimator, TransformerMixin):\n",
    "    def __init__(self, attribute_names): \n",
    "        self.attribute_names = attribute_names\n",
    "    def fit(self, X, y=None):\n",
    "        return self \n",
    "    def transform(self, X):\n",
    "        return X[self.attribute_names]\n",
    "    \n",
    "num_pipe = Pipeline([\n",
    "    (\"select_numeric\", DataFrameSelector([\"Age\", \"SibSp\", \"Parch\", \"Fare\"])), \n",
    "    (\"imputer\", SimpleImputer(strategy=\"median\")) # Imputing Age \n",
    "])\n",
    "\n",
    "\n",
    "num_pipe.fit_transform(train)"
   ]
  },
  {
   "cell_type": "code",
   "execution_count": 57,
   "metadata": {},
   "outputs": [],
   "source": [
    "## Write a transformer to get most frequent categorical labels \n",
    "## .. and impute null values with them \n",
    "## From fillna doc: input is a dict/Series/df specifying which values \n",
    "## to use for each index (for a Series) or col (for a df) \n",
    "class MostFrequentImputer(BaseEstimator, TransformerMixin):\n",
    "    def fit(self,X,y=None):\n",
    "        self.most_frequent_ = pd.Series([X[c].value_counts().index[0] for c in X],\n",
    "                        index = X.columns)\n",
    "        return self \n",
    "    def transform(self, X, y=None):\n",
    "        return X.fillna(self.most_frequent_)\n",
    "        \n",
    "cat_pipe = Pipeline([\n",
    "    (\"select_cat\", DataFrameSelector([\"Pclass\", \"Sex\", \"Embarked\"])),\n",
    "    (\"most_frequent\", MostFrequentImputer()), \n",
    "    (\"one_hot\", OneHotEncoder(sparse=False))\n",
    "])"
   ]
  },
  {
   "cell_type": "code",
   "execution_count": 66,
   "metadata": {},
   "outputs": [
    {
     "data": {
      "text/plain": [
       "array([[0., 0., 1., ..., 0., 0., 1.],\n",
       "       [1., 0., 0., ..., 1., 0., 0.],\n",
       "       [0., 0., 1., ..., 0., 0., 1.],\n",
       "       ...,\n",
       "       [0., 0., 1., ..., 0., 0., 1.],\n",
       "       [1., 0., 0., ..., 1., 0., 0.],\n",
       "       [0., 0., 1., ..., 0., 1., 0.]])"
      ]
     },
     "execution_count": 66,
     "metadata": {},
     "output_type": "execute_result"
    }
   ],
   "source": [
    "cat_pipe.fit_transform(train)"
   ]
  },
  {
   "cell_type": "code",
   "execution_count": 68,
   "metadata": {},
   "outputs": [],
   "source": [
    "## Join the transformers \n",
    "full_pipe = FeatureUnion(transformer_list=[\n",
    "    (\"num_pipeline\", num_pipe),\n",
    "    (\"cat_pipeline\", cat_pipe)\n",
    "])"
   ]
  },
  {
   "cell_type": "code",
   "execution_count": 73,
   "metadata": {},
   "outputs": [],
   "source": [
    "X_train = full_pipe.fit_transform(train)\n",
    "y_train = train['Survived']"
   ]
  },
  {
   "cell_type": "code",
   "execution_count": 76,
   "metadata": {},
   "outputs": [
    {
     "data": {
      "text/plain": [
       "0.8149526160481217"
      ]
     },
     "execution_count": 76,
     "metadata": {},
     "output_type": "execute_result"
    }
   ],
   "source": [
    "## Try a RF model \n",
    "forest_clf = RandomForestClassifier(random_state=42, n_estimators=100)\n",
    "forest_scores = cross_val_score(forest_clf, X_train, y_train, cv = 10)\n",
    "forest_scores.mean()"
   ]
  },
  {
   "cell_type": "code",
   "execution_count": 77,
   "metadata": {},
   "outputs": [
    {
     "data": {
      "text/plain": [
       "array([0.74444444, 0.8       , 0.76404494, 0.82022472, 0.88764045,\n",
       "       0.83146067, 0.83146067, 0.7752809 , 0.84269663, 0.85227273])"
      ]
     },
     "execution_count": 77,
     "metadata": {},
     "output_type": "execute_result"
    }
   ],
   "source": [
    "forest_scores"
   ]
  },
  {
   "cell_type": "code",
   "execution_count": 85,
   "metadata": {},
   "outputs": [
    {
     "data": {
      "image/png": "[encoded data removed]",
      "text/plain": [
       "<Figure size 576x288 with 1 Axes>"
      ]
     },
     "metadata": {
      "needs_background": "light"
     },
     "output_type": "display_data"
    }
   ],
   "source": [
    "plt.figure(figsize=(8,4))\n",
    "plt.plot([1]*10,forest_scores, \".\")\n",
    "plt.boxplot([forest_scores], labels=[\"RF\"])\n",
    "plt.ylabel(\"Accuracy\", fontsize=14)\n",
    "plt.show()"
   ]
  },
  {
   "cell_type": "code",
   "execution_count": null,
   "metadata": {},
   "outputs": [],
   "source": []
  }
 ],
 "metadata": {
  "kernelspec": {
   "display_name": "Python 3",
   "language": "python",
   "name": "python3"
  },
  "language_info": {
   "codemirror_mode": {
    "name": "ipython",
    "version": 3
   },
   "file_extension": ".py",
   "mimetype": "text/x-python",
   "name": "python",
   "nbconvert_exporter": "python",
   "pygments_lexer": "ipython3",
   "version": "3.7.1"
  }
 },
 "nbformat": 4,
 "nbformat_minor": 2
}
