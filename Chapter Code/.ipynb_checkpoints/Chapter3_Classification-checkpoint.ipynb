{
 "cells": [
  {
   "cell_type": "code",
   "execution_count": 114,
   "metadata": {},
   "outputs": [
    {
     "data": {
      "text/html": [
       "<style>.container { width:100% !important; }</style>"
      ],
      "text/plain": [
       "<IPython.core.display.HTML object>"
      ]
     },
     "metadata": {},
     "output_type": "display_data"
    }
   ],
   "source": [
    "from sklearn.datasets import fetch_openml \n",
    "\n",
    "import numpy as np \n",
    "from sklearn.linear_model import SGDClassifier\n",
    "from sklearn.model_selection import StratifiedKFold, cross_val_score, cross_val_predict\n",
    "from sklearn.base import clone, BaseEstimator\n",
    "from sklearn.metrics import confusion_matrix, recall_score, precision_score, f1_score\n",
    "\n",
    "import matplotlib \n",
    "import matplotlib.pyplot as plt \n",
    "%matplotlib inline \n",
    "\n",
    "from IPython.core.display import display, HTML\n",
    "display(HTML(\"<style>.container { width:100% !important; }</style>\"))\n",
    "\n"
   ]
  },
  {
   "cell_type": "code",
   "execution_count": 87,
   "metadata": {},
   "outputs": [],
   "source": [
    "## No longer supports fetch_ml data \n",
    "## Use fetch_openml instead, need to sort the results as well \n",
    "mnist = fetch_openml('mnist_784', version=1, cache=True)\n",
    "mnist.target = mnist.target.astype(np.int8) # fetch_openml() returns targets as strings"
   ]
  },
  {
   "cell_type": "code",
   "execution_count": 88,
   "metadata": {},
   "outputs": [],
   "source": [
    "## Reorder array - separate the training and the testing parts of the dataset \n",
    "def reorder_mnist(mnist, end_train_index=60000):\n",
    "    '''\n",
    "    Will return a train set with labels in order (i.e. 0,0,0,...1,1,1,......9,9,9)\n",
    "    Same for test set\n",
    "    @note: \n",
    "    - Make sure to select last column to get only index and not label (although sorting by label)\n",
    "    '''\n",
    "    reorder_train = np.array(sorted([(target, i) for i, target in enumerate(mnist.target[:end_train_index])]))[:,1]\n",
    "    reorder_test = np.array(sorted([(target, i) for i, target in enumerate(mnist.target[end_train_index:])]))[:,1]\n",
    "    mnist.data[:end_train_index] = mnist.data[reorder_train]\n",
    "    mnist.target[:end_train_index] = mnist.target[reorder_train]\n",
    "    mnist.data[end_train_index:] = mnist.data[reorder_test + end_train_index]\n",
    "    mnist.target[end_train_index:] = mnist.target[reorder_test + end_train_index]"
   ]
  },
  {
   "cell_type": "code",
   "execution_count": 89,
   "metadata": {},
   "outputs": [
    {
     "data": {
      "image/png": "[encoded data removed]",
      "text/plain": [
       "<Figure size 432x288 with 1 Axes>"
      ]
     },
     "metadata": {
      "needs_background": "light"
     },
     "output_type": "display_data"
    },
    {
     "name": "stdout",
     "output_type": "stream",
     "text": [
      "8\n"
     ]
    }
   ],
   "source": [
    "## Get the features, response variable \n",
    "X, y = mnist['data'], mnist['target']\n",
    "\n",
    "## Examine one of the instances of the mnist test set \n",
    "some_digit = X[3600]\n",
    "some_digit_image = some_digit.reshape(28,28)\n",
    "\n",
    "plt.imshow(some_digit_image, cmap = matplotlib.cm.binary, \n",
    "          interpolation='nearest')\n",
    "plt.axis('off')\n",
    "plt.show()\n",
    "print(y[3600])"
   ]
  },
  {
   "cell_type": "code",
   "execution_count": 90,
   "metadata": {},
   "outputs": [],
   "source": [
    "## Get train and test set, and reorder the training set to \n",
    "## ... make sure folds have a good variety of numnbers (using np.random)\n",
    "X_train, X_test, y_train, y_test = X[:60000], X[60000:], y[:60000], y[60000:]\n",
    "shuffle_indices = np.random.permutation(60000)\n",
    "X_train, y_train = X_train[shuffle_indices], y_train[shuffle_indices]"
   ]
  },
  {
   "cell_type": "markdown",
   "metadata": {},
   "source": [
    "## Training a Binary Classifier "
   ]
  },
  {
   "cell_type": "code",
   "execution_count": 91,
   "metadata": {},
   "outputs": [
    {
     "data": {
      "text/plain": [
       "array([False])"
      ]
     },
     "execution_count": 91,
     "metadata": {},
     "output_type": "execute_result"
    }
   ],
   "source": [
    "## Build a simple binary classifier (5 or not 5)\n",
    "## using a Stochastic Gradient Descent Classifier \n",
    "y_train_5 = (y_train == 5)\n",
    "y_test_5 = (y_test == 5)\n",
    "\n",
    "sgd_clf = SGDClassifier()\n",
    "sgd_clf.fit(X_train, y_train_5)\n",
    "sgd_clf.predict([some_digit])\n"
   ]
  },
  {
   "cell_type": "code",
   "execution_count": 92,
   "metadata": {},
   "outputs": [
    {
     "name": "stdout",
     "output_type": "stream",
     "text": [
      "0.9675\n",
      "0.94685\n",
      "0.9629\n"
     ]
    }
   ],
   "source": [
    "## Implementing cross validation \n",
    "skfolds = StratifiedKFold(n_splits=3, random_state=42)\n",
    "\n",
    "for train_index, test_index in skfolds.split(X_train, y_train_5): \n",
    "    clone_clf = clone(sgd_clf) # clones and yields estimator with same parameters, but without any data attached to it \n",
    "    X_train_folds = X_train[train_index]\n",
    "    y_train_folds = y_train_5[train_index]\n",
    "    X_test_folds = X_train[test_index]\n",
    "    y_test_folds = y_train_5[test_index]\n",
    "    \n",
    "    clone_clf.fit(X_train_folds, y_train_folds)\n",
    "    y_pred = clone_clf.predict(X_test_folds)\n",
    "    n_correct = sum(y_pred == y_test_folds)\n",
    "    print(n_correct / len(y_pred))"
   ]
  },
  {
   "cell_type": "code",
   "execution_count": 104,
   "metadata": {},
   "outputs": [
    {
     "data": {
      "text/plain": [
       "array([0.95045, 0.9583 , 0.9637 ])"
      ]
     },
     "execution_count": 104,
     "metadata": {},
     "output_type": "execute_result"
    }
   ],
   "source": [
    "## Use cross_val_score from sklearn.model_selection to evaluate your model \n",
    "scores = cross_val_score(sgd_clf, X_train, y_train_5, cv=3, scoring = 'accuracy')\n",
    "scores"
   ]
  },
  {
   "cell_type": "code",
   "execution_count": 101,
   "metadata": {},
   "outputs": [
    {
     "data": {
      "text/plain": [
       "array([0.9106 , 0.9113 , 0.90705])"
      ]
     },
     "execution_count": 101,
     "metadata": {},
     "output_type": "execute_result"
    }
   ],
   "source": [
    "## Create a Base Estimator that will predict all False \n",
    "## Shows flaws of above model - barely performs any better than the Naive model below \n",
    "## Be careful when dealing with classification problems on skewed data! \n",
    "class NeverSClassifier(BaseEstimator):\n",
    "    def fit(self,X,y=None):\n",
    "        pass\n",
    "    def predict(Self,X):\n",
    "        return np.zeros((len(X),1), dtype=bool)\n",
    "    \n",
    "never_5_clf = NeverSClassifier() \n",
    "cross_val_score(never_5_clf, X_train, y_train_5, cv=3, scoring='accuracy')"
   ]
  },
  {
   "cell_type": "code",
   "execution_count": 107,
   "metadata": {},
   "outputs": [
    {
     "data": {
      "text/plain": [
       "array([[53154,  1425],\n",
       "       [ 1235,  4186]])"
      ]
     },
     "execution_count": 107,
     "metadata": {},
     "output_type": "execute_result"
    }
   ],
   "source": [
    "## Confusion Matrix \n",
    "## Use cross_val_predict to perform k-fold CV, byt instead of returning eval scores\n",
    "## ...the function returns the predictions made on each test fold \n",
    "## Also use confusion_matrix from sklearn.metrics \n",
    "y_train_pred = cross_val_predict(sgd_clf, X_train, y_train_5, cv = 3)\n",
    "confusion_matrix(y_train_5, y_train_pred)"
   ]
  },
  {
   "cell_type": "code",
   "execution_count": 116,
   "metadata": {},
   "outputs": [
    {
     "name": "stdout",
     "output_type": "stream",
     "text": [
      "Precision: 0.75\n",
      "Recall: 0.77\n",
      "F1 score 0.76\n"
     ]
    }
   ],
   "source": [
    "## Precision and recall \n",
    "## Can use sklearn.metrics' functions recall and precision to compute classifier metrics \n",
    "print(\"Precision:\",round(precision_score(y_train_5, y_train_pred),2))\n",
    "print(\"Recall:\",round(recall_score(y_train_5, y_train_pred),2))\n",
    "\n",
    "## Alternatively, use an F-score\n",
    "## F-score combines precision and recall into a single metric \n",
    "## Pros: Easier to compare multiple models \n",
    "## It's the harmonic mean of precision and recall \n",
    "## Note: Harmonic mean gives smaller weight to values that are low \n",
    "## ... For a high harmonic mean, both prec. and recall need to be high \n",
    "print(\"F1 score\", round(f1_score(y_train_5, y_train_pred),2))\n",
    "\n",
    "\n",
    "## @note on precision and recall \n",
    "## @source https://medium.com/@klintcho/explaining-precision-and-recall-c770eb9c69e9 \n",
    "## Remember: A classifier with high precision is equivalent to casting a very narrow but specialized \n",
    "## ...net. You will only catch a small amount of fish and you will miss out on a lot of fish\n",
    "## ...A classifier with high recall but low precision is equivalent to casting a very wide net: \n",
    "## ...You will catch a lot of fish, but also a lot of things you don't want to catch "
   ]
  },
  {
   "cell_type": "code",
   "execution_count": null,
   "metadata": {},
   "outputs": [],
   "source": []
  }
 ],
 "metadata": {
  "kernelspec": {
   "display_name": "Python 3",
   "language": "python",
   "name": "python3"
  },
  "language_info": {
   "codemirror_mode": {
    "name": "ipython",
    "version": 3
   },
   "file_extension": ".py",
   "mimetype": "text/x-python",
   "name": "python",
   "nbconvert_exporter": "python",
   "pygments_lexer": "ipython3",
   "version": "3.7.1"
  }
 },
 "nbformat": 4,
 "nbformat_minor": 2
}
