{
 "cells": [
  {
   "cell_type": "code",
   "execution_count": 212,
   "metadata": {},
   "outputs": [
    {
     "data": {
      "text/html": [
       "<style>.container { width:100% !important; }</style>"
      ],
      "text/plain": [
       "<IPython.core.display.HTML object>"
      ]
     },
     "metadata": {},
     "output_type": "display_data"
    }
   ],
   "source": [
    "from sklearn.datasets import fetch_openml \n",
    "\n",
    "import numpy as np \n",
    "from sklearn.linear_model import SGDClassifier\n",
    "from sklearn.model_selection import StratifiedKFold, cross_val_score, cross_val_predict\n",
    "from sklearn.base import clone, BaseEstimator\n",
    "from sklearn.metrics import confusion_matrix, recall_score, precision_score, f1_score\n",
    "from sklearn.metrics import precision_recall_curve, roc_curve, roc_auc_score\n",
    "from sklearn.ensemble import RandomForestClassifier\n",
    "\n",
    "import matplotlib \n",
    "import matplotlib.pyplot as plt \n",
    "%matplotlib inline \n",
    "\n",
    "from IPython.core.display import display, HTML\n",
    "display(HTML(\"<style>.container { width:100% !important; }</style>\"))\n",
    "\n"
   ]
  },
  {
   "cell_type": "code",
   "execution_count": 87,
   "metadata": {},
   "outputs": [],
   "source": [
    "## No longer supports fetch_ml data \n",
    "## Use fetch_openml instead, need to sort the results as well \n",
    "mnist = fetch_openml('mnist_784', version=1, cache=True)\n",
    "mnist.target = mnist.target.astype(np.int8) # fetch_openml() returns targets as strings"
   ]
  },
  {
   "cell_type": "code",
   "execution_count": 88,
   "metadata": {},
   "outputs": [],
   "source": [
    "## Reorder array - separate the training and the testing parts of the dataset \n",
    "def reorder_mnist(mnist, end_train_index=60000):\n",
    "    '''\n",
    "    Will return a train set with labels in order (i.e. 0,0,0,...1,1,1,......9,9,9)\n",
    "    Same for test set\n",
    "    @note: \n",
    "    - Make sure to select last column to get only index and not label (although sorting by label)\n",
    "    '''\n",
    "    reorder_train = np.array(sorted([(target, i) for i, target in enumerate(mnist.target[:end_train_index])]))[:,1]\n",
    "    reorder_test = np.array(sorted([(target, i) for i, target in enumerate(mnist.target[end_train_index:])]))[:,1]\n",
    "    mnist.data[:end_train_index] = mnist.data[reorder_train]\n",
    "    mnist.target[:end_train_index] = mnist.target[reorder_train]\n",
    "    mnist.data[end_train_index:] = mnist.data[reorder_test + end_train_index]\n",
    "    mnist.target[end_train_index:] = mnist.target[reorder_test + end_train_index]"
   ]
  },
  {
   "cell_type": "code",
   "execution_count": 89,
   "metadata": {},
   "outputs": [
    {
     "data": {
      "image/png": "[encoded data removed]",
      "text/plain": [
       "<Figure size 432x288 with 1 Axes>"
      ]
     },
     "metadata": {
      "needs_background": "light"
     },
     "output_type": "display_data"
    },
    {
     "name": "stdout",
     "output_type": "stream",
     "text": [
      "8\n"
     ]
    }
   ],
   "source": [
    "## Get the features, response variable \n",
    "X, y = mnist['data'], mnist['target']\n",
    "\n",
    "## Examine one of the instances of the mnist test set \n",
    "some_digit = X[3600]\n",
    "some_digit_image = some_digit.reshape(28,28)\n",
    "\n",
    "plt.imshow(some_digit_image, cmap = matplotlib.cm.binary, \n",
    "          interpolation='nearest')\n",
    "plt.axis('off')\n",
    "plt.show()\n",
    "print(y[3600])"
   ]
  },
  {
   "cell_type": "code",
   "execution_count": 90,
   "metadata": {},
   "outputs": [],
   "source": [
    "## Get train and test set, and reorder the training set to \n",
    "## ... make sure folds have a good variety of numnbers (using np.random)\n",
    "X_train, X_test, y_train, y_test = X[:60000], X[60000:], y[:60000], y[60000:]\n",
    "shuffle_indices = np.random.permutation(60000)\n",
    "X_train, y_train = X_train[shuffle_indices], y_train[shuffle_indices]"
   ]
  },
  {
   "cell_type": "markdown",
   "metadata": {},
   "source": [
    "## Training a Binary Classifier "
   ]
  },
  {
   "cell_type": "code",
   "execution_count": 91,
   "metadata": {},
   "outputs": [
    {
     "data": {
      "text/plain": [
       "array([False])"
      ]
     },
     "execution_count": 91,
     "metadata": {},
     "output_type": "execute_result"
    }
   ],
   "source": [
    "## Build a simple binary classifier (5 or not 5)\n",
    "## using a Stochastic Gradient Descent Classifier \n",
    "y_train_5 = (y_train == 5)\n",
    "y_test_5 = (y_test == 5)\n",
    "\n",
    "sgd_clf = SGDClassifier()\n",
    "sgd_clf.fit(X_train, y_train_5)\n",
    "sgd_clf.predict([some_digit])\n"
   ]
  },
  {
   "cell_type": "code",
   "execution_count": 92,
   "metadata": {},
   "outputs": [
    {
     "name": "stdout",
     "output_type": "stream",
     "text": [
      "0.9675\n",
      "0.94685\n",
      "0.9629\n"
     ]
    }
   ],
   "source": [
    "## Implementing cross validation \n",
    "skfolds = StratifiedKFold(n_splits=3, random_state=42)\n",
    "\n",
    "for train_index, test_index in skfolds.split(X_train, y_train_5): \n",
    "    clone_clf = clone(sgd_clf) # clones and yields estimator with same parameters, but without any data attached to it \n",
    "    X_train_folds = X_train[train_index]\n",
    "    y_train_folds = y_train_5[train_index]\n",
    "    X_test_folds = X_train[test_index]\n",
    "    y_test_folds = y_train_5[test_index]\n",
    "    \n",
    "    clone_clf.fit(X_train_folds, y_train_folds)\n",
    "    y_pred = clone_clf.predict(X_test_folds)\n",
    "    n_correct = sum(y_pred == y_test_folds)\n",
    "    print(n_correct / len(y_pred))"
   ]
  },
  {
   "cell_type": "code",
   "execution_count": 104,
   "metadata": {},
   "outputs": [
    {
     "data": {
      "text/plain": [
       "array([0.95045, 0.9583 , 0.9637 ])"
      ]
     },
     "execution_count": 104,
     "metadata": {},
     "output_type": "execute_result"
    }
   ],
   "source": [
    "## Use cross_val_score from sklearn.model_selection to evaluate your model \n",
    "scores = cross_val_score(sgd_clf, X_train, y_train_5, cv=3, scoring = 'accuracy')\n",
    "scores"
   ]
  },
  {
   "cell_type": "code",
   "execution_count": 101,
   "metadata": {},
   "outputs": [
    {
     "data": {
      "text/plain": [
       "array([0.9106 , 0.9113 , 0.90705])"
      ]
     },
     "execution_count": 101,
     "metadata": {},
     "output_type": "execute_result"
    }
   ],
   "source": [
    "## Create a Base Estimator that will predict all False \n",
    "## Shows flaws of above model - barely performs any better than the Naive model below \n",
    "## Be careful when dealing with classification problems on skewed data! \n",
    "class NeverSClassifier(BaseEstimator):\n",
    "    def fit(self,X,y=None):\n",
    "        pass\n",
    "    def predict(Self,X):\n",
    "        return np.zeros((len(X),1), dtype=bool)\n",
    "    \n",
    "never_5_clf = NeverSClassifier() \n",
    "cross_val_score(never_5_clf, X_train, y_train_5, cv=3, scoring='accuracy')"
   ]
  },
  {
   "cell_type": "code",
   "execution_count": 107,
   "metadata": {},
   "outputs": [
    {
     "data": {
      "text/plain": [
       "array([[53154,  1425],\n",
       "       [ 1235,  4186]])"
      ]
     },
     "execution_count": 107,
     "metadata": {},
     "output_type": "execute_result"
    }
   ],
   "source": [
    "## Confusion Matrix \n",
    "## Use cross_val_predict to perform k-fold CV, byt instead of returning eval scores\n",
    "## ...the function returns the predictions made on each test fold \n",
    "## Also use confusion_matrix from sklearn.metrics \n",
    "y_train_pred = cross_val_predict(sgd_clf, X_train, y_train_5, cv = 3)\n",
    "confusion_matrix(y_train_5, y_train_pred)"
   ]
  },
  {
   "cell_type": "code",
   "execution_count": 116,
   "metadata": {},
   "outputs": [
    {
     "name": "stdout",
     "output_type": "stream",
     "text": [
      "Precision: 0.75\n",
      "Recall: 0.77\n",
      "F1 score 0.76\n"
     ]
    }
   ],
   "source": [
    "## Precision and recall \n",
    "## Can use sklearn.metrics' functions recall and precision to compute classifier metrics \n",
    "print(\"Precision:\",round(precision_score(y_train_5, y_train_pred),2))\n",
    "print(\"Recall:\",round(recall_score(y_train_5, y_train_pred),2))\n",
    "\n",
    "## Alternatively, use an F-score\n",
    "## F-score combines precision and recall into a single metric \n",
    "## Pros: Easier to compare multiple models \n",
    "## It's the harmonic mean of precision and recall \n",
    "## Note: Harmonic mean gives smaller weight to values that are low \n",
    "## ... For a high harmonic mean, both prec. and recall need to be high \n",
    "print(\"F1 score\", round(f1_score(y_train_5, y_train_pred),2))\n",
    "\n",
    "\n",
    "## @note on precision and recall \n",
    "## @source https://medium.com/@klintcho/explaining-precision-and-recall-c770eb9c69e9 \n",
    "## Remember: A classifier with high precision is equivalent to casting a very narrow but specialized \n",
    "## ...net. You will only catch a small amount of fish and you will miss out on a lot of fish\n",
    "## ...A classifier with high recall but low precision is equivalent to casting a very wide net: \n",
    "## ...You will catch a lot of fish, but also a lot of things you don't want to catch "
   ]
  },
  {
   "cell_type": "code",
   "execution_count": 120,
   "metadata": {},
   "outputs": [
    {
     "data": {
      "text/plain": [
       "array([-1274.62536889])"
      ]
     },
     "execution_count": 120,
     "metadata": {},
     "output_type": "execute_result"
    }
   ],
   "source": [
    "## The Precision and Recall Tradeoff\n",
    "## Increasing the threshold increases precision, but also reduces recall \n",
    "## Reminder: Precision is, out of the selected positive instances, how many are actual positives\n",
    "## ...Recall is, out of all positive instances, how many were selected? \n",
    "\n",
    "## @note:sci-kit does not give you access to threshold. Can return the raw scores and \n",
    "## ...set the score manually - using the decision_function() method (instead of using predict())\n",
    "y_scores = sgd_clf.decision_function([some_digit])\n",
    "y_scores ## Weird... returns a score but doesn't seem to be bounded - get all scores and normalize? "
   ]
  },
  {
   "cell_type": "code",
   "execution_count": 121,
   "metadata": {},
   "outputs": [],
   "source": [
    "## Get all scores using cv, but this time use method='de(cision_function' instead of 'accuracy'\n",
    "y_scores = cross_val_predict(sgd_clf, X_train, y_train_5, cv=3, method='decision_function')"
   ]
  },
  {
   "cell_type": "code",
   "execution_count": 127,
   "metadata": {},
   "outputs": [
    {
     "data": {
      "image/png": "[encoded data removed]",
      "text/plain": [
       "<Figure size 432x288 with 1 Axes>"
      ]
     },
     "metadata": {
      "needs_background": "light"
     },
     "output_type": "display_data"
    }
   ],
   "source": [
    "plt.hist(y_scores, bins = 50);"
   ]
  },
  {
   "cell_type": "code",
   "execution_count": 167,
   "metadata": {
    "scrolled": true
   },
   "outputs": [
    {
     "data": {
      "image/png": "[encoded data removed]",
      "text/plain": [
       "<Figure size 432x288 with 1 Axes>"
      ]
     },
     "metadata": {
      "needs_background": "light"
     },
     "output_type": "display_data"
    }
   ],
   "source": [
    "## Fancier plot - from the book \n",
    "## Get the precision recall curves pairs for different thresholds using precision_recall_curve() function\n",
    "precision, recall, threshold = precision_recall_curve(y_train_5, y_scores)\n",
    "\n",
    "def plot_precision_recall_vs_threshold(precision, recall, threshold, bool_normalize = False):\n",
    "    if bool_normalize:\n",
    "        threshold = (threshold - min(threshold)) / (max(threshold) - min(threshold))\n",
    "    plt.plot(threshold, precision[:-1], 'b--', label = \"Precision\")\n",
    "    plt.plot(threshold, recall[:-1], 'g-', label = \"Recall\")\n",
    "    plt.xlabel(\"Treshold\")\n",
    "    plt.legend(loc='upper left')\n",
    "    plt.ylim([0,1])\n",
    "    \n",
    "plot_precision_recall_vs_threshold(precision, recall, threshold) ## Weird dip for precision shouldnt happen \n",
    "\n",
    "## @note: \n",
    "## Precision can have a bumpier curve than recall \n",
    "## Say you have the following labels along the score\n",
    "## 5 - 2 - 5 - 5 - 6 - 5 - 5 - 5 \n",
    "## If you increase the threshold, recall can only go down \n",
    "## But increasing threshold can lead to a decrease in precision \n",
    "## e.g. if increase thresh. right before 6 label score"
   ]
  },
  {
   "cell_type": "code",
   "execution_count": 211,
   "metadata": {},
   "outputs": [
    {
     "data": {
      "text/plain": [
       "<matplotlib.lines.Line2D at 0x138f2f9b0>"
      ]
     },
     "execution_count": 211,
     "metadata": {},
     "output_type": "execute_result"
    },
    {
     "data": {
      "image/png": "[encoded data removed]",
      "text/plain": [
       "<Figure size 432x288 with 1 Axes>"
      ]
     },
     "metadata": {
      "needs_background": "light"
     },
     "output_type": "display_data"
    }
   ],
   "source": [
    "## Another good way to select best thresh. is to plot precision vs. recall \n",
    "# plt.plot(precision, recall) # Wrong!\n",
    "plt.plot(recall, precision)\n",
    "plt.axvline(x=.8, linestyle='--', color = 'g', alpha = .6)"
   ]
  },
  {
   "cell_type": "code",
   "execution_count": 174,
   "metadata": {},
   "outputs": [
    {
     "name": "stdout",
     "output_type": "stream",
     "text": [
      "Precision 0.906734291349676\n",
      "Recall: 0.5936174137612986\n"
     ]
    }
   ],
   "source": [
    "## Set the scores based on the above scores - say you want a precision ~=90 \n",
    "y_train_pred_90 = y_scores > 2500\n",
    "print(\"Precision\",precision_score(y_train_5, y_train_pred_90))\n",
    "print(\"Recall:\",recall_score(y_train_5, y_train_pred_90))\n",
    "\n",
    "## @remember: If someone says build a classifier with preciion at 99% - ask: at what recall? "
   ]
  },
  {
   "cell_type": "code",
   "execution_count": 176,
   "metadata": {},
   "outputs": [],
   "source": [
    "## Recap of above: \n",
    "## Can plot precision / recall against threshold to find a sweet spot. \n",
    "## Alternatively, plot precision vs recall and find the approx. point where \n",
    "##...precision starts to drop"
   ]
  },
  {
   "cell_type": "code",
   "execution_count": 178,
   "metadata": {},
   "outputs": [],
   "source": [
    "## The ROC curve \n",
    "## Receiver Operating Characteristic curve is another tool to evaluate binary classifiers \n",
    "## Instead of plotting precision vs. recall as seen above, we are plotting\n",
    "## ... True Positive Rate vs. False Positive Rate \n",
    "## TPR = Sensitivity = Recall = TP / (TP + FN) (ie. how many of the actual positives did we capture)\n",
    "## FPR = Specificity = 1-TNR (True Negative Rate) = FP / (FP + TN) = 1 - (TN/(TN+FP)) \n",
    "## ... (ie. Ratio of negative instances that are incorrectly classified as positive)\n",
    "\n",
    "## First compute TPR and FPR (sensitivy, specificity) \n",
    "fpr,tpr,threshold = roc_curve(y_train_5, y_scores)"
   ]
  },
  {
   "cell_type": "code",
   "execution_count": 205,
   "metadata": {},
   "outputs": [
    {
     "data": {
      "image/png": "[encoded data removed]",
      "text/plain": [
       "<Figure size 432x288 with 1 Axes>"
      ]
     },
     "metadata": {
      "needs_background": "light"
     },
     "output_type": "display_data"
    }
   ],
   "source": [
    "def plot_roc_curve(fpr, tpr, label=None):\n",
    "    plt.plot(fpr,tpr,linewidth=2,label=label)\n",
    "    plt.plot([0,1],[0,1],'k--')\n",
    "    plt.axis([0,1,0,1]) # set xmin,xmax,ymin,ymax\n",
    "    plt.xlabel('False Positive Rate')\n",
    "    plt.ylabel('True Positive Rate')\n",
    "plot_roc_curve(fpr,tpr)\n",
    "plt.show()"
   ]
  },
  {
   "cell_type": "code",
   "execution_count": 207,
   "metadata": {},
   "outputs": [
    {
     "data": {
      "text/plain": [
       "0.9537274872946312"
      ]
     },
     "execution_count": 207,
     "metadata": {},
     "output_type": "execute_result"
    }
   ],
   "source": [
    "## To compare classifiers, calc. AUC (Area Under the Curve)\n",
    "## A good classifier will have an ROC curve that hugs the upper left corner \n",
    "## A purely random classifier's perf. is represented by the dotted line \n",
    "roc_auc_score(y_train_5, y_scores)"
   ]
  },
  {
   "cell_type": "code",
   "execution_count": null,
   "metadata": {},
   "outputs": [],
   "source": [
    "## @note @important: When to use PR curve (Precision/Recall) vs ROC \n",
    "## Use a PR curve when either: \n",
    "## - The positive class is rate \n",
    "## - Care more about false positives than false negatives \n",
    "## PR curve makes it clear that there is room for improvement .\n",
    "## ROC curve can give you false illusion that model is performing well "
   ]
  },
  {
   "cell_type": "code",
   "execution_count": 216,
   "metadata": {
    "collapsed": true
   },
   "outputs": [
    {
     "name": "stderr",
     "output_type": "stream",
     "text": [
      "/Users/elieharik/Desktop/Dev/Books/Python/HandsOnML/env/lib/python3.7/site-packages/sklearn/ensemble/forest.py:245: FutureWarning: The default value of n_estimators will change from 10 in version 0.20 to 100 in 0.22.\n",
      "  \"10 in version 0.20 to 100 in 0.22.\", FutureWarning)\n",
      "/Users/elieharik/Desktop/Dev/Books/Python/HandsOnML/env/lib/python3.7/site-packages/sklearn/ensemble/forest.py:245: FutureWarning: The default value of n_estimators will change from 10 in version 0.20 to 100 in 0.22.\n",
      "  \"10 in version 0.20 to 100 in 0.22.\", FutureWarning)\n",
      "/Users/elieharik/Desktop/Dev/Books/Python/HandsOnML/env/lib/python3.7/site-packages/sklearn/ensemble/forest.py:245: FutureWarning: The default value of n_estimators will change from 10 in version 0.20 to 100 in 0.22.\n",
      "  \"10 in version 0.20 to 100 in 0.22.\", FutureWarning)\n"
     ]
    }
   ],
   "source": [
    "## Compare to RAndom Forest model \n",
    "forest_clf = RandomForestClassifier(random_state=42)\n",
    "y_probab = cross_val_predict(forest_clf, X_train, y_train_5, cv=3, \n",
    "                          method='predict_proba') \n",
    "\n",
    "## @note: in sklearn, rf does not have decision_func method. \n",
    "## Instead, use predict_proba. Will return rows of probability for each class (each column is a class)"
   ]
  },
  {
   "cell_type": "code",
   "execution_count": 221,
   "metadata": {},
   "outputs": [
    {
     "name": "stdout",
     "output_type": "stream",
     "text": [
      "[[1.  0. ]\n",
      " [0.8 0.2]\n",
      " [1.  0. ]\n",
      " ...\n",
      " [0.3 0.7]\n",
      " [1.  0. ]\n",
      " [1.  0. ]]\n"
     ]
    },
    {
     "data": {
      "image/png": "[encoded data removed]",
      "text/plain": [
       "<Figure size 432x288 with 1 Axes>"
      ]
     },
     "metadata": {
      "needs_background": "light"
     },
     "output_type": "display_data"
    }
   ],
   "source": [
    "print(y_probab) ## Only 2 classes\n",
    "\n",
    "## Quick hack: Select the Positive class probability as a score \n",
    "y_score_forest = y_probab[:,1]\n",
    "fpr_forest, tpr_forest, threshold_forest = roc_curve(y_train_5, y_score_forest)\n",
    "\n",
    "## Plot ROC curve \n",
    "plot_roc_curve(fpr_forest,tpr_forest, 'Random Forest')\n",
    "plt.plot(fpr,tpr,'b:',label='SGD')\n",
    "plt.legend(loc='lower right')\n",
    "plt.show() ## RF Performs better. "
   ]
  },
  {
   "cell_type": "code",
   "execution_count": null,
   "metadata": {},
   "outputs": [],
   "source": []
  }
 ],
 "metadata": {
  "kernelspec": {
   "display_name": "Python 3",
   "language": "python",
   "name": "python3"
  },
  "language_info": {
   "codemirror_mode": {
    "name": "ipython",
    "version": 3
   },
   "file_extension": ".py",
   "mimetype": "text/x-python",
   "name": "python",
   "nbconvert_exporter": "python",
   "pygments_lexer": "ipython3",
   "version": "3.7.1"
  }
 },
 "nbformat": 4,
 "nbformat_minor": 2
}
