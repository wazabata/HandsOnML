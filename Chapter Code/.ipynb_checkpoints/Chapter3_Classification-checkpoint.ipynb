{
 "cells": [
  {
   "cell_type": "code",
   "execution_count": 46,
   "metadata": {},
   "outputs": [
    {
     "data": {
      "text/html": [
       "<style>.container { width:100% !important; }</style>"
      ],
      "text/plain": [
       "<IPython.core.display.HTML object>"
      ]
     },
     "metadata": {},
     "output_type": "display_data"
    }
   ],
   "source": [
    "from sklearn.datasets import fetch_openml \n",
    "\n",
    "import numpy as np \n",
    "from sklearn.linear_model import SGDClassifier\n",
    "from sklearn.model_selection import StratifiedKFold, cross_val_score, cross_val_predict\n",
    "from sklearn.base import clone, BaseEstimator\n",
    "from sklearn.metrics import confusion_matrix, recall_score, precision_score, f1_score\n",
    "from sklearn.metrics import precision_recall_curve, roc_curve, roc_auc_score\n",
    "from sklearn.ensemble import RandomForestClassifier\n",
    "from sklearn.neighbors import KNeighborsClassifier\n",
    "\n",
    "import matplotlib \n",
    "import matplotlib.pyplot as plt \n",
    "%matplotlib inline \n",
    "\n",
    "from IPython.core.display import display, HTML\n",
    "display(HTML(\"<style>.container { width:100% !important; }</style>\"))\n",
    "\n"
   ]
  },
  {
   "cell_type": "code",
   "execution_count": 3,
   "metadata": {},
   "outputs": [],
   "source": [
    "## No longer supports fetch_ml data \n",
    "## Use fetch_openml instead, need to sort the results as well \n",
    "mnist = fetch_openml('mnist_784', version=1, cache=True)\n",
    "mnist.target = mnist.target.astype(np.int8) # fetch_openml() returns targets as strings"
   ]
  },
  {
   "cell_type": "code",
   "execution_count": 4,
   "metadata": {},
   "outputs": [],
   "source": [
    "## Reorder array - separate the training and the testing parts of the dataset \n",
    "def reorder_mnist(mnist, end_train_index=60000):\n",
    "    '''\n",
    "    Will return a train set with labels in order (i.e. 0,0,0,...1,1,1,......9,9,9)\n",
    "    Same for test set\n",
    "    @note: \n",
    "    - Make sure to select last column to get only index and not label (although sorting by label)\n",
    "    - Intermediate step -> will return list of tuples (actually becomes np array of arrays?) containing [target, index]\n",
    "    ... sorted by target then index e.g. [[0,12],[0,20], [1,5],[1,99],[3,1]....]s\n",
    "    '''\n",
    "    reorder_train = np.array(sorted([(target, i) for i, target in enumerate(mnist.target[:end_train_index])]))[:,1]\n",
    "    reorder_test = np.array(sorted([(target, i) for i, target in enumerate(mnist.target[end_train_index:])]))[:,1]\n",
    "    mnist.data[:end_train_index] = mnist.data[reorder_train]\n",
    "    mnist.target[:end_train_index] = mnist.target[reorder_train]\n",
    "    mnist.data[end_train_index:] = mnist.data[reorder_test + end_train_index]\n",
    "    mnist.target[end_train_index:] = mnist.target[reorder_test + end_train_index]"
   ]
  },
  {
   "cell_type": "code",
   "execution_count": 5,
   "metadata": {},
   "outputs": [
    {
     "data": {
      "image/png": "[encoded data removed]",
      "text/plain": [
       "<Figure size 432x288 with 1 Axes>"
      ]
     },
     "metadata": {
      "needs_background": "light"
     },
     "output_type": "display_data"
    },
    {
     "name": "stdout",
     "output_type": "stream",
     "text": [
      "8\n"
     ]
    }
   ],
   "source": [
    "## Get the features, response variable \n",
    "X, y = mnist['data'], mnist['target']\n",
    "\n",
    "## Examine one of the instances of the mnist test set \n",
    "some_digit = X[3600]\n",
    "some_digit_label = y[3600]\n",
    "some_digit_image = some_digit.reshape(28,28) #784 columns \n",
    "\n",
    "plt.imshow(some_digit_image, cmap = matplotlib.cm.binary, \n",
    "          interpolation='nearest')\n",
    "plt.axis('off')\n",
    "plt.show()\n",
    "print(some_digit_label)"
   ]
  },
  {
   "cell_type": "code",
   "execution_count": 6,
   "metadata": {},
   "outputs": [],
   "source": [
    "## Get train and test set, and reorder the training set to \n",
    "## ... make sure folds have a good variety of numnbers (using np.random)\n",
    "X_train, X_test, y_train, y_test = X[:60000], X[60000:], y[:60000], y[60000:]\n",
    "shuffle_indices = np.random.permutation(60000)\n",
    "X_train, y_train = X_train[shuffle_indices], y_train[shuffle_indices]"
   ]
  },
  {
   "cell_type": "markdown",
   "metadata": {},
   "source": [
    "## Training a Binary Classifier "
   ]
  },
  {
   "cell_type": "code",
   "execution_count": 7,
   "metadata": {},
   "outputs": [
    {
     "data": {
      "text/plain": [
       "array([False])"
      ]
     },
     "execution_count": 7,
     "metadata": {},
     "output_type": "execute_result"
    }
   ],
   "source": [
    "## Build a simple binary classifier (5 or not 5)\n",
    "## using a Stochastic Gradient Descent Classifier \n",
    "y_train_5 = (y_train == 5)\n",
    "y_test_5 = (y_test == 5)\n",
    "\n",
    "sgd_clf = SGDClassifier()\n",
    "sgd_clf.fit(X_train, y_train_5)\n",
    "sgd_clf.predict([some_digit])"
   ]
  },
  {
   "cell_type": "code",
   "execution_count": 8,
   "metadata": {},
   "outputs": [
    {
     "name": "stdout",
     "output_type": "stream",
     "text": [
      "0.9619\n",
      "0.96205\n",
      "0.96515\n"
     ]
    }
   ],
   "source": [
    "## Implementing cross validation \n",
    "skfolds = StratifiedKFold(n_splits=3, random_state=42)\n",
    "\n",
    "for train_index, test_index in skfolds.split(X_train, y_train_5): \n",
    "    clone_clf = clone(sgd_clf) # clones and yields estimator with same parameters, but without any data attached to it \n",
    "    X_train_folds = X_train[train_index]\n",
    "    y_train_folds = y_train_5[train_index]\n",
    "    X_test_folds = X_train[test_index]\n",
    "    y_test_folds = y_train_5[test_index]\n",
    "    \n",
    "    clone_clf.fit(X_train_folds, y_train_folds)\n",
    "    y_pred = clone_clf.predict(X_test_folds)\n",
    "    n_correct = sum(y_pred == y_test_folds)\n",
    "    print(n_correct / len(y_pred))"
   ]
  },
  {
   "cell_type": "code",
   "execution_count": 9,
   "metadata": {},
   "outputs": [
    {
     "data": {
      "text/plain": [
       "array([0.9651 , 0.9273 , 0.96255])"
      ]
     },
     "execution_count": 9,
     "metadata": {},
     "output_type": "execute_result"
    }
   ],
   "source": [
    "## Use cross_val_score from sklearn.model_selection to evaluate your model \n",
    "scores = cross_val_score(sgd_clf, X_train, y_train_5, cv=3, scoring = 'accuracy')\n",
    "scores"
   ]
  },
  {
   "cell_type": "code",
   "execution_count": 10,
   "metadata": {},
   "outputs": [
    {
     "data": {
      "text/plain": [
       "array([0.90785, 0.9109 , 0.9102 ])"
      ]
     },
     "execution_count": 10,
     "metadata": {},
     "output_type": "execute_result"
    }
   ],
   "source": [
    "## Create a Base Estimator that will predict all False \n",
    "## Shows flaws of above model - barely performs any better than the Naive model below \n",
    "## Be careful when dealing with classification problems on skewed data! \n",
    "class NeverSClassifier(BaseEstimator):\n",
    "    def fit(self,X,y=None):\n",
    "        pass\n",
    "    def predict(Self,X):\n",
    "        return np.zeros((len(X),1), dtype=bool)\n",
    "    \n",
    "never_5_clf = NeverSClassifier() \n",
    "cross_val_score(never_5_clf, X_train, y_train_5, cv=3, scoring='accuracy')"
   ]
  },
  {
   "cell_type": "code",
   "execution_count": 11,
   "metadata": {},
   "outputs": [
    {
     "data": {
      "text/plain": [
       "array([[53233,  1346],\n",
       "       [ 1134,  4287]])"
      ]
     },
     "execution_count": 11,
     "metadata": {},
     "output_type": "execute_result"
    }
   ],
   "source": [
    "## Confusion Matrix \n",
    "## Use cross_val_predict to perform k-fold CV, byt instead of returning eval scores\n",
    "## ...the function returns the predictions made on each test fold \n",
    "## Also use confusion_matrix from sklearn.metrics \n",
    "y_train_pred = cross_val_predict(sgd_clf, X_train, y_train_5, cv = 3)\n",
    "confusion_matrix(y_train_5, y_train_pred)"
   ]
  },
  {
   "cell_type": "code",
   "execution_count": 12,
   "metadata": {},
   "outputs": [
    {
     "name": "stdout",
     "output_type": "stream",
     "text": [
      "Precision: 0.76\n",
      "Recall: 0.79\n",
      "F1 score 0.78\n"
     ]
    }
   ],
   "source": [
    "## Precision and recall \n",
    "## Can use sklearn.metrics' functions recall and precision to compute classifier metrics \n",
    "print(\"Precision:\",round(precision_score(y_train_5, y_train_pred),2))\n",
    "print(\"Recall:\",round(recall_score(y_train_5, y_train_pred),2))\n",
    "\n",
    "## Alternatively, use an F-score\n",
    "## F-score combines precision and recall into a single metric \n",
    "## Pros: Easier to compare multiple models \n",
    "## It's the harmonic mean of precision and recall \n",
    "## Note: Harmonic mean gives smaller weight to values that are low \n",
    "## ... For a high harmonic mean, both prec. and recall need to be high \n",
    "print(\"F1 score\", round(f1_score(y_train_5, y_train_pred),2))\n",
    "\n",
    "\n",
    "## @note on precision and recall \n",
    "## @source https://medium.com/@klintcho/explaining-precision-and-recall-c770eb9c69e9 \n",
    "## Remember: A classifier with high precision is equivalent to casting a very narrow but specialized \n",
    "## ...net. You will only catch a small amount of fish and you will miss out on a lot of fish\n",
    "## ...A classifier with high recall but low precision is equivalent to casting a very wide net: \n",
    "## ...You will catch a lot of fish, but also a lot of things you don't want to catch "
   ]
  },
  {
   "cell_type": "markdown",
   "metadata": {},
   "source": [
    "## Precision Recall Tradeoff"
   ]
  },
  {
   "cell_type": "code",
   "execution_count": 13,
   "metadata": {},
   "outputs": [
    {
     "data": {
      "text/plain": [
       "array([-3937.85901732])"
      ]
     },
     "execution_count": 13,
     "metadata": {},
     "output_type": "execute_result"
    }
   ],
   "source": [
    "## The Precision and Recall Tradeoff\n",
    "## Increasing the threshold increases precision, but also reduces recall \n",
    "## Reminder: Precision is, out of the selected positive instances, how many are actual positives\n",
    "## ...Recall is, out of all positive instances, how many were selected? \n",
    "\n",
    "## @note:sci-kit does not give you access to threshold. Can return the raw scores and \n",
    "## ...set the score manually - using the decision_function() method (instead of using predict())\n",
    "y_scores = sgd_clf.decision_function([some_digit])\n",
    "y_scores ## Weird... returns a score but doesn't seem to be bounded - get all scores and normalize? "
   ]
  },
  {
   "cell_type": "code",
   "execution_count": 14,
   "metadata": {},
   "outputs": [],
   "source": [
    "## Get all scores using cv, but this time use method='de(cision_function' instead of 'accuracy'\n",
    "y_scores = cross_val_predict(sgd_clf, X_train, y_train_5, cv=3, method='decision_function')"
   ]
  },
  {
   "cell_type": "code",
   "execution_count": 15,
   "metadata": {},
   "outputs": [
    {
     "data": {
      "image/png": "[encoded data removed]",
      "text/plain": [
       "<Figure size 432x288 with 1 Axes>"
      ]
     },
     "metadata": {
      "needs_background": "light"
     },
     "output_type": "display_data"
    }
   ],
   "source": [
    "plt.hist(y_scores, bins = 50);"
   ]
  },
  {
   "cell_type": "code",
   "execution_count": 16,
   "metadata": {
    "scrolled": true
   },
   "outputs": [
    {
     "data": {
      "image/png": "[encoded data removed]",
      "text/plain": [
       "<Figure size 432x288 with 1 Axes>"
      ]
     },
     "metadata": {
      "needs_background": "light"
     },
     "output_type": "display_data"
    }
   ],
   "source": [
    "## Fancier plot - from the book \n",
    "## Get the precision recall curves pairs for different thresholds using precision_recall_curve() function\n",
    "precision, recall, threshold = precision_recall_curve(y_train_5, y_scores)\n",
    "\n",
    "def plot_precision_recall_vs_threshold(precision, recall, threshold, bool_normalize = False):\n",
    "    if bool_normalize:\n",
    "        threshold = (threshold - min(threshold)) / (max(threshold) - min(threshold))\n",
    "    plt.plot(threshold, precision[:-1], 'b--', label = \"Precision\")\n",
    "    plt.plot(threshold, recall[:-1], 'g-', label = \"Recall\")\n",
    "    plt.xlabel(\"Treshold\")\n",
    "    plt.legend(loc='upper left')\n",
    "    plt.ylim([0,1])\n",
    "    \n",
    "plot_precision_recall_vs_threshold(precision, recall, threshold) ## Weird dip for precision shouldnt happen \n",
    "\n",
    "## @note: \n",
    "## Precision can have a bumpier curve than recall \n",
    "## Say you have the following labels along the score\n",
    "## 5 - 2 - 5 - 5 - 6 - 5 - 5 - 5 \n",
    "## If you increase the threshold, recall can only go down \n",
    "## But increasing threshold can lead to a decrease in precision \n",
    "## e.g. if increase thresh. right before 6 label score"
   ]
  },
  {
   "cell_type": "code",
   "execution_count": 17,
   "metadata": {},
   "outputs": [
    {
     "data": {
      "text/plain": [
       "<matplotlib.lines.Line2D at 0x11d80f0f0>"
      ]
     },
     "execution_count": 17,
     "metadata": {},
     "output_type": "execute_result"
    },
    {
     "data": {
      "image/png": "[encoded data removed]",
      "text/plain": [
       "<Figure size 432x288 with 1 Axes>"
      ]
     },
     "metadata": {
      "needs_background": "light"
     },
     "output_type": "display_data"
    }
   ],
   "source": [
    "## Another good way to select best thresh. is to plot precision vs. recall \n",
    "# plt.plot(precision, recall) # Wrong!\n",
    "plt.plot(recall, precision)\n",
    "plt.axvline(x=.8, linestyle='--', color = 'g', alpha = .6)"
   ]
  },
  {
   "cell_type": "code",
   "execution_count": 18,
   "metadata": {},
   "outputs": [
    {
     "name": "stdout",
     "output_type": "stream",
     "text": [
      "Precision 0.9566265060240964\n",
      "Recall: 0.5126360450101457\n"
     ]
    }
   ],
   "source": [
    "## Set the scores based on the above scores - say you want a precision ~=90 \n",
    "y_train_pred_90 = y_scores > 2500\n",
    "print(\"Precision\",precision_score(y_train_5, y_train_pred_90))\n",
    "print(\"Recall:\",recall_score(y_train_5, y_train_pred_90))\n",
    "\n",
    "## @remember: If someone says build a classifier with preciion at 99% - ask: at what recall? "
   ]
  },
  {
   "cell_type": "code",
   "execution_count": 19,
   "metadata": {},
   "outputs": [],
   "source": [
    "## Recap of above: \n",
    "## Can plot precision / recall against threshold to find a sweet spot. \n",
    "## Alternatively, plot precision vs recall and find the approx. point where \n",
    "##...precision starts to drop"
   ]
  },
  {
   "cell_type": "code",
   "execution_count": 20,
   "metadata": {},
   "outputs": [],
   "source": [
    "## The ROC curve \n",
    "## Receiver Operating Characteristic curve is another tool to evaluate binary classifiers \n",
    "## Instead of plotting precision vs. recall as seen above, we are plotting\n",
    "## ... True Positive Rate vs. False Positive Rate \n",
    "## TPR = Sensitivity = Recall = TP / (TP + FN) (ie. how many of the actual positives did we capture)\n",
    "## FPR = Specificity = 1-TNR (True Negative Rate) = FP / (FP + TN) = 1 - (TN/(TN+FP)) \n",
    "## ... (ie. Ratio of negative instances that are incorrectly classified as positive)\n",
    "\n",
    "## First compute TPR and FPR (sensitivy, specificity) \n",
    "fpr,tpr,threshold = roc_curve(y_train_5, y_scores)"
   ]
  },
  {
   "cell_type": "code",
   "execution_count": 21,
   "metadata": {},
   "outputs": [
    {
     "data": {
      "image/png": "[encoded data removed]",
      "text/plain": [
       "<Figure size 432x288 with 1 Axes>"
      ]
     },
     "metadata": {
      "needs_background": "light"
     },
     "output_type": "display_data"
    }
   ],
   "source": [
    "def plot_roc_curve(fpr, tpr, label=None):\n",
    "    plt.plot(fpr,tpr,linewidth=2,label=label)\n",
    "    plt.plot([0,1],[0,1],'k--')\n",
    "    plt.axis([0,1,0,1]) # set xmin,xmax,ymin,ymax\n",
    "    plt.xlabel('False Positive Rate')\n",
    "    plt.ylabel('True Positive Rate')\n",
    "plot_roc_curve(fpr,tpr)\n",
    "plt.show()"
   ]
  },
  {
   "cell_type": "code",
   "execution_count": 22,
   "metadata": {},
   "outputs": [
    {
     "data": {
      "text/plain": [
       "0.9541249385517103"
      ]
     },
     "execution_count": 22,
     "metadata": {},
     "output_type": "execute_result"
    }
   ],
   "source": [
    "## To compare classifiers, calc. AUC (Area Under the Curve)\n",
    "## A good classifier will have an ROC curve that hugs the upper left corner \n",
    "## A purely random classifier's perf. is represented by the dotted line \n",
    "roc_auc_score(y_train_5, y_scores)"
   ]
  },
  {
   "cell_type": "code",
   "execution_count": 23,
   "metadata": {},
   "outputs": [],
   "source": [
    "## @note @important: When to use PR curve (Precision/Recall) vs ROC \n",
    "## Use a PR curve when either: \n",
    "## - The positive class is rate \n",
    "## - Care more about false positives than false negatives \n",
    "## PR curve makes it clear that there is room for improvement .\n",
    "## ROC curve can give you false illusion that model is performing well "
   ]
  },
  {
   "cell_type": "code",
   "execution_count": 24,
   "metadata": {},
   "outputs": [
    {
     "name": "stderr",
     "output_type": "stream",
     "text": [
      "/Users/elieharik/miniconda3/envs/analytics_all/lib/python3.7/site-packages/sklearn/ensemble/forest.py:245: FutureWarning: The default value of n_estimators will change from 10 in version 0.20 to 100 in 0.22.\n",
      "  \"10 in version 0.20 to 100 in 0.22.\", FutureWarning)\n",
      "/Users/elieharik/miniconda3/envs/analytics_all/lib/python3.7/site-packages/sklearn/ensemble/forest.py:245: FutureWarning: The default value of n_estimators will change from 10 in version 0.20 to 100 in 0.22.\n",
      "  \"10 in version 0.20 to 100 in 0.22.\", FutureWarning)\n",
      "/Users/elieharik/miniconda3/envs/analytics_all/lib/python3.7/site-packages/sklearn/ensemble/forest.py:245: FutureWarning: The default value of n_estimators will change from 10 in version 0.20 to 100 in 0.22.\n",
      "  \"10 in version 0.20 to 100 in 0.22.\", FutureWarning)\n"
     ]
    }
   ],
   "source": [
    "## Compare to RAndom Forest model \n",
    "forest_clf = RandomForestClassifier(random_state=42)\n",
    "y_probab = cross_val_predict(forest_clf, X_train, y_train_5, cv=3, \n",
    "                          method='predict_proba') \n",
    "\n",
    "## @note: in sklearn, rf does not have decision_func method. \n",
    "## Instead, use predict_proba. Will return rows of probability for each class (each column is a class)"
   ]
  },
  {
   "cell_type": "code",
   "execution_count": 25,
   "metadata": {},
   "outputs": [
    {
     "name": "stdout",
     "output_type": "stream",
     "text": [
      "[[1.  0. ]\n",
      " [1.  0. ]\n",
      " [1.  0. ]\n",
      " ...\n",
      " [1.  0. ]\n",
      " [1.  0. ]\n",
      " [0.7 0.3]]\n"
     ]
    },
    {
     "data": {
      "image/png": "[encoded data removed]",
      "text/plain": [
       "<Figure size 432x288 with 1 Axes>"
      ]
     },
     "metadata": {
      "needs_background": "light"
     },
     "output_type": "display_data"
    }
   ],
   "source": [
    "print(y_probab) ## Only 2 classes\n",
    "\n",
    "## Quick hack: Select the Positive class probability as a score \n",
    "y_score_forest = y_probab[:,1]\n",
    "fpr_forest, tpr_forest, threshold_forest = roc_curve(y_train_5, y_score_forest)\n",
    "\n",
    "## Plot ROC curve \n",
    "plot_roc_curve(fpr_forest,tpr_forest, 'Random Forest')\n",
    "plt.plot(fpr,tpr,'b:',label='SGD')\n",
    "plt.legend(loc='lower right')\n",
    "plt.show() ## RF Performs better. "
   ]
  },
  {
   "cell_type": "markdown",
   "metadata": {},
   "source": [
    "## Multiclass Classification"
   ]
  },
  {
   "cell_type": "code",
   "execution_count": 26,
   "metadata": {},
   "outputs": [
    {
     "name": "stdout",
     "output_type": "stream",
     "text": [
      "All decision scores: [[-27442.88501854 -30927.95427185  -3357.64352128  -1004.13948947\n",
      "   -6936.04580322  -3371.65108679 -14857.35702824 -14290.57178759\n",
      "    1046.70592287  -5019.74629017]]\n"
     ]
    }
   ],
   "source": [
    "## Multiclass Classification \n",
    "\n",
    "## For alogrithms that are not able to do multiclass classification:\n",
    "## Two strategies: \n",
    "## 1. One vs all:\n",
    "## ... If want to train n labels, train n classifiers for each class. To determine the label of an instance \n",
    "## ... select the highest decision score between all classifiers\n",
    "## 2. One vs one\n",
    "## .. Build a binary classifier for every pair of labels (e.g. for digits -> 0 vs 1, 0vs2 etc...)\n",
    "## .. Will need N * (N-1) / 2 classifiers \n",
    "## .. To predict a label, need to run instance through each of the classifiers and see which \n",
    "## .. class wins the most 'duels'\n",
    "## Pros of one vs one: Each binary classifier only needs to be trained on the part of the training \n",
    "## set for the two classes that it must distinguish \n",
    "## SVM scales badly with large datasets, and so using One vs One might be better for algorithms \n",
    "## that require smaller data sets. \n",
    "\n",
    "## Example with sgd classifier \n",
    "sgd_clf.fit(X_train, y_train)\n",
    "sgd_clf.predict([some_digit])\n",
    "\n",
    "## What happens behind the scenes: \n",
    "## Scikit learn identifies this as a multiclass classification problem \n",
    "## .. and adopts the one vs all strategy to predict the classes. \n",
    "## .. Therefore, 10 binary classifiers are fit, each identifying \n",
    "## .. a class vs. all other classes. When doing predictions \n",
    "## .. the instance is fit to all classifiers, and the decision scores \n",
    "## .. are evaluated. The class with the highest score is selected. \n",
    "\n",
    "## Check with the decision_function method \n",
    "## Instad of one score being returned, the decision score for all classes (10)\n",
    "## are returned \n",
    "some_digit_scores = sgd_clf.decision_function([some_digit])\n",
    "print(\"All decision scores: {}\".format(some_digit_scores))\n",
    "# print(\"The class is actually equal to: {}\".format(some_digit))"
   ]
  },
  {
   "cell_type": "code",
   "execution_count": 27,
   "metadata": {},
   "outputs": [
    {
     "name": "stdout",
     "output_type": "stream",
     "text": [
      "Top score is in index 8\n",
      "List of target classes stored by classifier: [0 1 2 3 4 5 6 7 8 9]\n",
      "Selected class in said list: 8\n"
     ]
    }
   ],
   "source": [
    "## Looking at scores for sgd classifier (and which class is predicted)\n",
    "print(\"Top score is in index {}\".format(np.argmax(some_digit_scores))) \n",
    "print(\"List of target classes stored by classifier: {}\".format(sgd_clf.classes_))\n",
    "print(\"Selected class in said list: {}\".format(sgd_clf.classes_[np.argmax(some_digit_scores)]))"
   ]
  },
  {
   "cell_type": "code",
   "execution_count": 28,
   "metadata": {},
   "outputs": [
    {
     "name": "stdout",
     "output_type": "stream",
     "text": [
      "Predicted class:[8]\n",
      "Number of estimators for ovo: 45\n"
     ]
    }
   ],
   "source": [
    "## How about if want to force one vs all or one vs one? \n",
    "## Use the OneVsOneClassifier or OneVsRestClassifier classes \n",
    "## .. and pass a binary classifier to its constructor\n",
    "from sklearn.multiclass import OneVsOneClassifier\n",
    "ovo_clf = OneVsOneClassifier(SGDClassifier(random_state=42))\n",
    "ovo_clf.fit(X_train, y_train)\n",
    "print(\"Predicted class:{}\".format(ovo_clf.predict([some_digit])))\n",
    "print(\"Number of estimators for ovo: {}\".format(len(ovo_clf.estimators_))) ## Will be 45 \n"
   ]
  },
  {
   "cell_type": "code",
   "execution_count": 29,
   "metadata": {},
   "outputs": [
    {
     "name": "stderr",
     "output_type": "stream",
     "text": [
      "/Users/elieharik/miniconda3/envs/analytics_all/lib/python3.7/site-packages/sklearn/ensemble/forest.py:245: FutureWarning: The default value of n_estimators will change from 10 in version 0.20 to 100 in 0.22.\n",
      "  \"10 in version 0.20 to 100 in 0.22.\", FutureWarning)\n"
     ]
    },
    {
     "data": {
      "text/plain": [
       "array([8], dtype=int8)"
      ]
     },
     "execution_count": 29,
     "metadata": {},
     "output_type": "execute_result"
    }
   ],
   "source": [
    "## Now train a random forest - will not require OvA or OvO \n",
    "forest_clf.fit(X_train, y_train)\n",
    "forest_clf.predict([some_digit])"
   ]
  },
  {
   "cell_type": "code",
   "execution_count": 30,
   "metadata": {},
   "outputs": [
    {
     "data": {
      "text/plain": [
       "array([[0., 0., 0., 0., 0., 0., 0., 0., 1., 0.]])"
      ]
     },
     "execution_count": 30,
     "metadata": {},
     "output_type": "execute_result"
    }
   ],
   "source": [
    "forest_clf.predict_proba([some_digit]) # Will return probability for each class "
   ]
  },
  {
   "cell_type": "code",
   "execution_count": 32,
   "metadata": {},
   "outputs": [
    {
     "name": "stdout",
     "output_type": "stream",
     "text": [
      "CV perf of SGD: [0.87744559 0.86775344]\n",
      "CV perf of scaled SGD: [0.90540946 0.89318932]\n"
     ]
    }
   ],
   "source": [
    "## Evaluate the SGD classier with CV \n",
    "print(\"CV perf of SGD: {}\".format(cross_val_score(sgd_clf, X_train, y_train, cv = 2, scoring = 'accuracy')))\n",
    "\n",
    "## Performance not great - Scale as recommended in chap 2: \n",
    "from sklearn.preprocessing import StandardScaler\n",
    "scaler = StandardScaler() \n",
    "X_train_scaled = scaler.fit_transform(X_train.astype(np.float64))\n",
    "print(\"CV perf of scaled SGD: {}\".format(cross_val_score(sgd_clf, X_train_scaled, y_train, cv = 2, scoring = 'accuracy')))"
   ]
  },
  {
   "cell_type": "markdown",
   "metadata": {},
   "source": [
    "## Error Analysis "
   ]
  },
  {
   "cell_type": "code",
   "execution_count": 36,
   "metadata": {},
   "outputs": [
    {
     "name": "stderr",
     "output_type": "stream",
     "text": [
      "/Users/elieharik/miniconda3/envs/analytics_all/lib/python3.7/site-packages/sklearn/linear_model/stochastic_gradient.py:561: ConvergenceWarning: Maximum number of iteration reached before convergence. Consider increasing max_iter to improve the fit.\n",
      "  ConvergenceWarning)\n"
     ]
    },
    {
     "data": {
      "text/plain": [
       "array([[5615,    1,   18,    7,    8,   52,   36,    6,  177,    3],\n",
       "       [   1, 6431,   37,   31,    5,   45,    6,    7,  163,   16],\n",
       "       [  27,   31, 5240,   90,   71,   31,   77,   39,  339,   13],\n",
       "       [  31,   26,  121, 5240,    2,  227,   26,   38,  348,   72],\n",
       "       [  11,   15,   43,   11, 5246,   10,   42,   20,  271,  173],\n",
       "       [  32,   16,   31,  161,   59, 4512,   87,   20,  436,   67],\n",
       "       [  32,   20,   53,    2,   40,   96, 5551,    7,  117,    0],\n",
       "       [  17,   13,   52,   30,   49,    8,    5, 5706,  152,  233],\n",
       "       [  19,   71,   46,   97,    6,  135,   36,   11, 5369,   61],\n",
       "       [  26,   20,   30,   64,  127,   39,    2,  173,  301, 5167]])"
      ]
     },
     "execution_count": 36,
     "metadata": {},
     "output_type": "execute_result"
    }
   ],
   "source": [
    "## Found model and want to analyze types of error it makes \n",
    "## Take a look at confusion matrix \n",
    "# sgd_clf.fit(X_train_scaled, y_train)\n",
    "y_train_pred = cross_val_predict(sgd_clf, X_train_scaled, y_train, cv = 2) ##sgd_clf.predict(y_train)\n",
    "conf_mx = confusion_matrix(y_train, y_train_pred)\n",
    "conf_mx "
   ]
  },
  {
   "cell_type": "code",
   "execution_count": 37,
   "metadata": {},
   "outputs": [
    {
     "data": {
      "image/png": "[encoded data removed]",
      "text/plain": [
       "<Figure size 288x288 with 1 Axes>"
      ]
     },
     "metadata": {
      "needs_background": "light"
     },
     "output_type": "display_data"
    }
   ],
   "source": [
    "## Visualize the confusion matrix \n",
    "plt.matshow(conf_mx, cmap = plt.cm.gray)\n",
    "plt.show() "
   ]
  },
  {
   "cell_type": "code",
   "execution_count": 38,
   "metadata": {},
   "outputs": [
    {
     "data": {
      "image/png": "[encoded data removed]",
      "text/plain": [
       "<Figure size 288x288 with 1 Axes>"
      ]
     },
     "metadata": {
      "needs_background": "light"
     },
     "output_type": "display_data"
    }
   ],
   "source": [
    "## Focus the plot on the errors \n",
    "## 1. Divide each value in the confusion matrix by the number of images in the corresponding class -> compare error rate vs absolute error \n",
    "## 2. Fill diagonal with zeros to keep only the errors \n",
    "row_sums = conf_mx.sum(axis = 1, keepdims = True)\n",
    "norm_conf_mx = conf_mx / row_sums\n",
    "\n",
    "np.fill_diagonal(norm_conf_mx, 0)\n",
    "plt.matshow(norm_conf_mx, cmap = plt.cm.gray)\n",
    "plt.show() "
   ]
  },
  {
   "cell_type": "code",
   "execution_count": 45,
   "metadata": {},
   "outputs": [
    {
     "data": {
      "image/png": "[encoded data removed]",
      "text/plain": [
       "<Figure size 576x576 with 4 Axes>"
      ]
     },
     "metadata": {
      "needs_background": "light"
     },
     "output_type": "display_data"
    }
   ],
   "source": [
    "## Take a look at some of the individual errors that are happening\n",
    "## Specifically examples of 3's and 5's that are misclassified \n",
    "cl_a, cl_b = 3,5 \n",
    "X_aa = X_train[(y_train == cl_a) & (y_train_pred == cl_a)]\n",
    "X_ab = X_train[(y_train == cl_a) & (y_train_pred == cl_b)]\n",
    "X_ba = X_train[(y_train == cl_b) & (y_train_pred == cl_a)]\n",
    "X_bb = X_train[(y_train == cl_b) & (y_train_pred == cl_b)]\n",
    "\n",
    "\n",
    "# EXTRA\n",
    "def plot_digits(instances, images_per_row=10, **options):\n",
    "    size = 28\n",
    "    images_per_row = min(len(instances), images_per_row)\n",
    "    images = [instance.reshape(size,size) for instance in instances]\n",
    "    n_rows = (len(instances) - 1) // images_per_row + 1\n",
    "    row_images = []\n",
    "    n_empty = n_rows * images_per_row - len(instances)\n",
    "    images.append(np.zeros((size, size * n_empty)))\n",
    "    for row in range(n_rows):\n",
    "        rimages = images[row * images_per_row : (row + 1) * images_per_row]\n",
    "        row_images.append(np.concatenate(rimages, axis=1))\n",
    "    image = np.concatenate(row_images, axis=0)\n",
    "    plt.imshow(image, cmap = matplotlib.cm.binary, **options)\n",
    "    plt.axis(\"off\")\n",
    "    \n",
    "plt.figure(figsize=(8,8))\n",
    "plt.subplot(221); plot_digits(X_aa[:25], images_per_row = 5)\n",
    "plt.subplot(222); plot_digits(X_ab[:25], images_per_row = 5)\n",
    "plt.subplot(223); plot_digits(X_ba[:25], images_per_row = 5)\n",
    "plt.subplot(224); plot_digits(X_bb[:25], images_per_row = 5)\n",
    "plt.show() "
   ]
  },
  {
   "cell_type": "markdown",
   "metadata": {},
   "source": [
    "## Multilabel Classification \n",
    "With KNN "
   ]
  },
  {
   "cell_type": "code",
   "execution_count": 48,
   "metadata": {},
   "outputs": [
    {
     "data": {
      "text/plain": [
       "KNeighborsClassifier(algorithm='auto', leaf_size=30, metric='minkowski',\n",
       "                     metric_params=None, n_jobs=None, n_neighbors=5, p=2,\n",
       "                     weights='uniform')"
      ]
     },
     "execution_count": 48,
     "metadata": {},
     "output_type": "execute_result"
    }
   ],
   "source": [
    "## In some cases, want classifier to output multiple labels for each instance \n",
    "## e.g. is this person a male or female? is his / her hair blond or black? etc... \n",
    "## Here, simpler exmaple \n",
    "y_train_large = (y_train >= 7 )\n",
    "y_train_odd = (y_train % 2 == 1) \n",
    "y_multilabel = np.c_[y_train_large, y_train_odd] # Translates slice objects to concatenation along the second axis.\n",
    "\n",
    "knn_clf = KNeighborsClassifier() \n",
    "knn_clf.fit(X_train, y_multilabel)"
   ]
  },
  {
   "cell_type": "code",
   "execution_count": 49,
   "metadata": {},
   "outputs": [
    {
     "data": {
      "text/plain": [
       "array([[ True, False]])"
      ]
     },
     "execution_count": 49,
     "metadata": {},
     "output_type": "execute_result"
    }
   ],
   "source": [
    "## Make a test prediction \n",
    "knn_clf.predict([some_digit]) # Some digit is 8, larger than 7 and even :) "
   ]
  },
  {
   "cell_type": "code",
   "execution_count": 50,
   "metadata": {},
   "outputs": [
    {
     "data": {
      "text/plain": [
       "0.9652908671518932"
      ]
     },
     "execution_count": 50,
     "metadata": {},
     "output_type": "execute_result"
    }
   ],
   "source": [
    "## Evaluate using F1, here will evaluate avg. F1 score across all labels \n",
    "y_train_knn_pred = cross_val_predict(knn_clf, X_train, y_train, cv = 2)\n",
    "f1_score(y_train, y_train_knn_pred, average='macro')\n",
    "\n",
    "## Above assumes that each label is equally important \n",
    "## If want to weigh / give more importance to some predictions, \n",
    "## .. replace with average = 'weighted' in code abvoe "
   ]
  },
  {
   "cell_type": "markdown",
   "metadata": {},
   "source": [
    "## Multioutput Classification"
   ]
  },
  {
   "cell_type": "code",
   "execution_count": 58,
   "metadata": {},
   "outputs": [
    {
     "data": {
      "image/png": "[encoded data removed]",
      "text/plain": [
       "<Figure size 432x288 with 1 Axes>"
      ]
     },
     "metadata": {
      "needs_background": "light"
     },
     "output_type": "display_data"
    }
   ],
   "source": [
    "## Generalization of multilabel classification, where each label can be multiclass (has more than 2 possible values)\n",
    "## Turn MNIST test into noisy images, use that as an input and train it to outut clean digit image \n",
    "noise = np.random.randint(0,100,(len(X_train), 784))\n",
    "X_train_mod = X_train + noise \n",
    "noise = np.random.randint(0,100,(len(X_test), 784))\n",
    "X_test_mod = X_test + noise \n",
    "y_train_mod = X_train \n",
    "y_test_mod = X_test\n",
    "\n",
    "knn_clf.fit(X_train_mod, y_train_mod)\n",
    "clean_digit = knn_clf.predict([X_test_mod[3]])\n",
    "plot_digits(clean_digit)"
   ]
  },
  {
   "cell_type": "code",
   "execution_count": 69,
   "metadata": {},
   "outputs": [
    {
     "data": {
      "image/png": "[encoded data removed]",
      "text/plain": [
       "<Figure size 432x288 with 1 Axes>"
      ]
     },
     "metadata": {
      "needs_background": "light"
     },
     "output_type": "display_data"
    },
    {
     "name": "stdout",
     "output_type": "stream",
     "text": [
      "9\n"
     ]
    }
   ],
   "source": [
    "# plot_digits(X_train_mod[3].reshape(28,28))\n",
    "\n",
    "plt.imshow(X_train_mod[3].reshape(28,28), cmap = matplotlib.cm.binary, \n",
    "          interpolation='nearest')\n",
    "plt.axis('off')\n",
    "plt.show()\n",
    "print(y_train[3]) ## Wrongly predicted 9-0 "
   ]
  },
  {
   "cell_type": "code",
   "execution_count": null,
   "metadata": {},
   "outputs": [],
   "source": []
  }
 ],
 "metadata": {
  "kernelspec": {
   "display_name": "Python 3",
   "language": "python",
   "name": "python3"
  },
  "language_info": {
   "codemirror_mode": {
    "name": "ipython",
    "version": 3
   },
   "file_extension": ".py",
   "mimetype": "text/x-python",
   "name": "python",
   "nbconvert_exporter": "python",
   "pygments_lexer": "ipython3",
   "version": "3.7.2"
  }
 },
 "nbformat": 4,
 "nbformat_minor": 2
}
