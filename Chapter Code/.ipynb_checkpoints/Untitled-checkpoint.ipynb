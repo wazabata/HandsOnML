{
 "cells": [
  {
   "cell_type": "code",
   "execution_count": 69,
   "metadata": {},
   "outputs": [],
   "source": [
    "## Test on stratified sampling\n",
    "\n",
    "import pandas as pd \n",
    "from sklearn.model_selection import train_test_split\n",
    "\n",
    "%matplotlib inline\n",
    "import matplotlib as mpl\n",
    "import matplotlib.pyplot as plt\n",
    "mpl.rc('axes', labelsize=14)\n",
    "mpl.rc('xtick', labelsize=12)\n",
    "mpl.rc('ytick', labelsize=12)\n",
    "\n",
    "gender_col = ['Male'] *  487 + ['Female'] *  513\n",
    "pop_df = pd.DataFrame({'Gender': gender_col})"
   ]
  },
  {
   "cell_type": "code",
   "execution_count": 70,
   "metadata": {},
   "outputs": [],
   "source": [
    "test_set_male_prop_list = []\n",
    "\n",
    "for i in range(0,1000): \n",
    "\n",
    "    train_set, test_set = train_test_split(pop_df, test_size=.2)\n",
    "\n",
    "    train_set_male = len(train_set[train_set['Gender'] == 'Male']) / len(train_set) * 100 \n",
    "    train_set_female = 100 - train_set_male\n",
    "\n",
    "    test_set_male = len(test_set[test_set['Gender'] == 'Male']) / len(test_set) * 100 \n",
    "    test_set_female = 100 - test_set_male\n",
    "    \n",
    "    test_set_male_prop_list.append(test_set_female)"
   ]
  },
  {
   "cell_type": "code",
   "execution_count": 71,
   "metadata": {},
   "outputs": [
    {
     "data": {
      "image/png": "[encoded data removed]",
      "text/plain": [
       "<Figure size 432x288 with 1 Axes>"
      ]
     },
     "metadata": {
      "needs_background": "light"
     },
     "output_type": "display_data"
    }
   ],
   "source": [
    "plt.hist(test_set_male_prop_list);"
   ]
  },
  {
   "cell_type": "code",
   "execution_count": null,
   "metadata": {},
   "outputs": [],
   "source": [
    "test_set_male_prop_list[test_set_male_prop_list<]"
   ]
  }
 ],
 "metadata": {
  "kernelspec": {
   "display_name": "Python 3",
   "language": "python",
   "name": "python3"
  },
  "language_info": {
   "codemirror_mode": {
    "name": "ipython",
    "version": 3
   },
   "file_extension": ".py",
   "mimetype": "text/x-python",
   "name": "python",
   "nbconvert_exporter": "python",
   "pygments_lexer": "ipython3",
   "version": "3.7.1"
  }
 },
 "nbformat": 4,
 "nbformat_minor": 2
}
