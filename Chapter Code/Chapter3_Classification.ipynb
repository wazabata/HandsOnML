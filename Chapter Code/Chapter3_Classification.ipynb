{
 "cells": [
  {
   "cell_type": "code",
   "execution_count": 12,
   "metadata": {},
   "outputs": [
    {
     "data": {
      "text/html": [
       "<style>.container { width:100% !important; }</style>"
      ],
      "text/plain": [
       "<IPython.core.display.HTML object>"
      ]
     },
     "metadata": {},
     "output_type": "display_data"
    }
   ],
   "source": [
    "from sklearn.datasets import fetch_openml \n",
    "\n",
    "import numpy as np \n",
    "from sklearn.linear_model import SGDClassifier\n",
    "from sklearn.model_selection import StratifiedKFold, cross_val_score, cross_val_predict\n",
    "from sklearn.base import clone, BaseEstimator\n",
    "from sklearn.metrics import confusion_matrix, recall_score, precision_score, f1_score\n",
    "from sklearn.metrics import precision_recall_curve, roc_curve, roc_auc_score\n",
    "from sklearn.ensemble import RandomForestClassifier\n",
    "\n",
    "import matplotlib \n",
    "import matplotlib.pyplot as plt \n",
    "%matplotlib inline \n",
    "\n",
    "from IPython.core.display import display, HTML\n",
    "display(HTML(\"<style>.container { width:100% !important; }</style>\"))\n",
    "\n"
   ]
  },
  {
   "cell_type": "code",
   "execution_count": 13,
   "metadata": {},
   "outputs": [],
   "source": [
    "## No longer supports fetch_ml data \n",
    "## Use fetch_openml instead, need to sort the results as well \n",
    "mnist = fetch_openml('mnist_784', version=1, cache=True)\n",
    "mnist.target = mnist.target.astype(np.int8) # fetch_openml() returns targets as strings"
   ]
  },
  {
   "cell_type": "code",
   "execution_count": 14,
   "metadata": {},
   "outputs": [],
   "source": [
    "## Reorder array - separate the training and the testing parts of the dataset \n",
    "def reorder_mnist(mnist, end_train_index=60000):\n",
    "    '''\n",
    "    Will return a train set with labels in order (i.e. 0,0,0,...1,1,1,......9,9,9)\n",
    "    Same for test set\n",
    "    @note: \n",
    "    - Make sure to select last column to get only index and not label (although sorting by label)\n",
    "    '''\n",
    "    reorder_train = np.array(sorted([(target, i) for i, target in enumerate(mnist.target[:end_train_index])]))[:,1]\n",
    "    reorder_test = np.array(sorted([(target, i) for i, target in enumerate(mnist.target[end_train_index:])]))[:,1]\n",
    "    mnist.data[:end_train_index] = mnist.data[reorder_train]\n",
    "    mnist.target[:end_train_index] = mnist.target[reorder_train]\n",
    "    mnist.data[end_train_index:] = mnist.data[reorder_test + end_train_index]\n",
    "    mnist.target[end_train_index:] = mnist.target[reorder_test + end_train_index]"
   ]
  },
  {
   "cell_type": "code",
   "execution_count": 38,
   "metadata": {},
   "outputs": [
    {
     "data": {
      "image/png": "[encoded data removed]",
      "text/plain": [
       "<Figure size 432x288 with 1 Axes>"
      ]
     },
     "metadata": {
      "needs_background": "light"
     },
     "output_type": "display_data"
    },
    {
     "name": "stdout",
     "output_type": "stream",
     "text": [
      "8\n"
     ]
    }
   ],
   "source": [
    "## Get the features, response variable \n",
    "X, y = mnist['data'], mnist['target']\n",
    "\n",
    "## Examine one of the instances of the mnist test set \n",
    "some_digit = X[3600]\n",
    "some_digit_label = y[3600]\n",
    "some_digit_image = some_digit.reshape(28,28)\n",
    "\n",
    "plt.imshow(some_digit_image, cmap = matplotlib.cm.binary, \n",
    "          interpolation='nearest')\n",
    "plt.axis('off')\n",
    "plt.show()\n",
    "print(some_digit_label)"
   ]
  },
  {
   "cell_type": "code",
   "execution_count": 16,
   "metadata": {},
   "outputs": [],
   "source": [
    "## Get train and test set, and reorder the training set to \n",
    "## ... make sure folds have a good variety of numnbers (using np.random)\n",
    "X_train, X_test, y_train, y_test = X[:60000], X[60000:], y[:60000], y[60000:]\n",
    "shuffle_indices = np.random.permutation(60000)\n",
    "X_train, y_train = X_train[shuffle_indices], y_train[shuffle_indices]"
   ]
  },
  {
   "cell_type": "markdown",
   "metadata": {},
   "source": [
    "## Training a Binary Classifier "
   ]
  },
  {
   "cell_type": "code",
   "execution_count": 17,
   "metadata": {},
   "outputs": [
    {
     "data": {
      "text/plain": [
       "array([False])"
      ]
     },
     "execution_count": 17,
     "metadata": {},
     "output_type": "execute_result"
    }
   ],
   "source": [
    "## Build a simple binary classifier (5 or not 5)\n",
    "## using a Stochastic Gradient Descent Classifier \n",
    "y_train_5 = (y_train == 5)\n",
    "y_test_5 = (y_test == 5)\n",
    "\n",
    "sgd_clf = SGDClassifier()\n",
    "sgd_clf.fit(X_train, y_train_5)\n",
    "sgd_clf.predict([some_digit])\n"
   ]
  },
  {
   "cell_type": "code",
   "execution_count": 18,
   "metadata": {},
   "outputs": [
    {
     "name": "stdout",
     "output_type": "stream",
     "text": [
      "0.96805\n",
      "0.9611\n",
      "0.9645\n"
     ]
    }
   ],
   "source": [
    "## Implementing cross validation \n",
    "skfolds = StratifiedKFold(n_splits=3, random_state=42)\n",
    "\n",
    "for train_index, test_index in skfolds.split(X_train, y_train_5): \n",
    "    clone_clf = clone(sgd_clf) # clones and yields estimator with same parameters, but without any data attached to it \n",
    "    X_train_folds = X_train[train_index]\n",
    "    y_train_folds = y_train_5[train_index]\n",
    "    X_test_folds = X_train[test_index]\n",
    "    y_test_folds = y_train_5[test_index]\n",
    "    \n",
    "    clone_clf.fit(X_train_folds, y_train_folds)\n",
    "    y_pred = clone_clf.predict(X_test_folds)\n",
    "    n_correct = sum(y_pred == y_test_folds)\n",
    "    print(n_correct / len(y_pred))"
   ]
  },
  {
   "cell_type": "code",
   "execution_count": 19,
   "metadata": {},
   "outputs": [
    {
     "data": {
      "text/plain": [
       "array([0.9587, 0.9594, 0.9657])"
      ]
     },
     "execution_count": 19,
     "metadata": {},
     "output_type": "execute_result"
    }
   ],
   "source": [
    "## Use cross_val_score from sklearn.model_selection to evaluate your model \n",
    "scores = cross_val_score(sgd_clf, X_train, y_train_5, cv=3, scoring = 'accuracy')\n",
    "scores"
   ]
  },
  {
   "cell_type": "code",
   "execution_count": 20,
   "metadata": {},
   "outputs": [
    {
     "data": {
      "text/plain": [
       "array([0.90715, 0.91315, 0.90865])"
      ]
     },
     "execution_count": 20,
     "metadata": {},
     "output_type": "execute_result"
    }
   ],
   "source": [
    "## Create a Base Estimator that will predict all False \n",
    "## Shows flaws of above model - barely performs any better than the Naive model below \n",
    "## Be careful when dealing with classification problems on skewed data! \n",
    "class NeverSClassifier(BaseEstimator):\n",
    "    def fit(self,X,y=None):\n",
    "        pass\n",
    "    def predict(Self,X):\n",
    "        return np.zeros((len(X),1), dtype=bool)\n",
    "    \n",
    "never_5_clf = NeverSClassifier() \n",
    "cross_val_score(never_5_clf, X_train, y_train_5, cv=3, scoring='accuracy')"
   ]
  },
  {
   "cell_type": "code",
   "execution_count": 21,
   "metadata": {},
   "outputs": [
    {
     "data": {
      "text/plain": [
       "array([[52873,  1706],\n",
       "       [  817,  4604]])"
      ]
     },
     "execution_count": 21,
     "metadata": {},
     "output_type": "execute_result"
    }
   ],
   "source": [
    "## Confusion Matrix \n",
    "## Use cross_val_predict to perform k-fold CV, byt instead of returning eval scores\n",
    "## ...the function returns the predictions made on each test fold \n",
    "## Also use confusion_matrix from sklearn.metrics \n",
    "y_train_pred = cross_val_predict(sgd_clf, X_train, y_train_5, cv = 3)\n",
    "confusion_matrix(y_train_5, y_train_pred)"
   ]
  },
  {
   "cell_type": "code",
   "execution_count": 22,
   "metadata": {},
   "outputs": [
    {
     "name": "stdout",
     "output_type": "stream",
     "text": [
      "Precision: 0.73\n",
      "Recall: 0.85\n",
      "F1 score 0.78\n"
     ]
    }
   ],
   "source": [
    "## Precision and recall \n",
    "## Can use sklearn.metrics' functions recall and precision to compute classifier metrics \n",
    "print(\"Precision:\",round(precision_score(y_train_5, y_train_pred),2))\n",
    "print(\"Recall:\",round(recall_score(y_train_5, y_train_pred),2))\n",
    "\n",
    "## Alternatively, use an F-score\n",
    "## F-score combines precision and recall into a single metric \n",
    "## Pros: Easier to compare multiple models \n",
    "## It's the harmonic mean of precision and recall \n",
    "## Note: Harmonic mean gives smaller weight to values that are low \n",
    "## ... For a high harmonic mean, both prec. and recall need to be high \n",
    "print(\"F1 score\", round(f1_score(y_train_5, y_train_pred),2))\n",
    "\n",
    "\n",
    "## @note on precision and recall \n",
    "## @source https://medium.com/@klintcho/explaining-precision-and-recall-c770eb9c69e9 \n",
    "## Remember: A classifier with high precision is equivalent to casting a very narrow but specialized \n",
    "## ...net. You will only catch a small amount of fish and you will miss out on a lot of fish\n",
    "## ...A classifier with high recall but low precision is equivalent to casting a very wide net: \n",
    "## ...You will catch a lot of fish, but also a lot of things you don't want to catch "
   ]
  },
  {
   "cell_type": "code",
   "execution_count": 23,
   "metadata": {},
   "outputs": [
    {
     "data": {
      "text/plain": [
       "array([-4276.28855399])"
      ]
     },
     "execution_count": 23,
     "metadata": {},
     "output_type": "execute_result"
    }
   ],
   "source": [
    "## The Precision and Recall Tradeoff\n",
    "## Increasing the threshold increases precision, but also reduces recall \n",
    "## Reminder: Precision is, out of the selected positive instances, how many are actual positives\n",
    "## ...Recall is, out of all positive instances, how many were selected? \n",
    "\n",
    "## @note:sci-kit does not give you access to threshold. Can return the raw scores and \n",
    "## ...set the score manually - using the decision_function() method (instead of using predict())\n",
    "y_scores = sgd_clf.decision_function([some_digit])\n",
    "y_scores ## Weird... returns a score but doesn't seem to be bounded - get all scores and normalize? "
   ]
  },
  {
   "cell_type": "code",
   "execution_count": 24,
   "metadata": {},
   "outputs": [],
   "source": [
    "## Get all scores using cv, but this time use method='de(cision_function' instead of 'accuracy'\n",
    "y_scores = cross_val_predict(sgd_clf, X_train, y_train_5, cv=3, method='decision_function')"
   ]
  },
  {
   "cell_type": "code",
   "execution_count": 25,
   "metadata": {},
   "outputs": [
    {
     "data": {
      "image/png": "[encoded data removed]",
      "text/plain": [
       "<Figure size 432x288 with 1 Axes>"
      ]
     },
     "metadata": {
      "needs_background": "light"
     },
     "output_type": "display_data"
    }
   ],
   "source": [
    "plt.hist(y_scores, bins = 50);"
   ]
  },
  {
   "cell_type": "code",
   "execution_count": 26,
   "metadata": {
    "scrolled": true
   },
   "outputs": [
    {
     "data": {
      "image/png": "[encoded data removed]",
      "text/plain": [
       "<Figure size 432x288 with 1 Axes>"
      ]
     },
     "metadata": {
      "needs_background": "light"
     },
     "output_type": "display_data"
    }
   ],
   "source": [
    "## Fancier plot - from the book \n",
    "## Get the precision recall curves pairs for different thresholds using precision_recall_curve() function\n",
    "precision, recall, threshold = precision_recall_curve(y_train_5, y_scores)\n",
    "\n",
    "def plot_precision_recall_vs_threshold(precision, recall, threshold, bool_normalize = False):\n",
    "    if bool_normalize:\n",
    "        threshold = (threshold - min(threshold)) / (max(threshold) - min(threshold))\n",
    "    plt.plot(threshold, precision[:-1], 'b--', label = \"Precision\")\n",
    "    plt.plot(threshold, recall[:-1], 'g-', label = \"Recall\")\n",
    "    plt.xlabel(\"Treshold\")\n",
    "    plt.legend(loc='upper left')\n",
    "    plt.ylim([0,1])\n",
    "    \n",
    "plot_precision_recall_vs_threshold(precision, recall, threshold) ## Weird dip for precision shouldnt happen \n",
    "\n",
    "## @note: \n",
    "## Precision can have a bumpier curve than recall \n",
    "## Say you have the following labels along the score\n",
    "## 5 - 2 - 5 - 5 - 6 - 5 - 5 - 5 \n",
    "## If you increase the threshold, recall can only go down \n",
    "## But increasing threshold can lead to a decrease in precision \n",
    "## e.g. if increase thresh. right before 6 label score"
   ]
  },
  {
   "cell_type": "code",
   "execution_count": 27,
   "metadata": {},
   "outputs": [
    {
     "data": {
      "text/plain": [
       "<matplotlib.lines.Line2D at 0x126184f98>"
      ]
     },
     "execution_count": 27,
     "metadata": {},
     "output_type": "execute_result"
    },
    {
     "data": {
      "image/png": "[encoded data removed]",
      "text/plain": [
       "<Figure size 432x288 with 1 Axes>"
      ]
     },
     "metadata": {
      "needs_background": "light"
     },
     "output_type": "display_data"
    }
   ],
   "source": [
    "## Another good way to select best thresh. is to plot precision vs. recall \n",
    "# plt.plot(precision, recall) # Wrong!\n",
    "plt.plot(recall, precision)\n",
    "plt.axvline(x=.8, linestyle='--', color = 'g', alpha = .6)"
   ]
  },
  {
   "cell_type": "code",
   "execution_count": 28,
   "metadata": {},
   "outputs": [
    {
     "name": "stdout",
     "output_type": "stream",
     "text": [
      "Precision 0.8300336983993261\n",
      "Recall: 0.7269876406567054\n"
     ]
    }
   ],
   "source": [
    "## Set the scores based on the above scores - say you want a precision ~=90 \n",
    "y_train_pred_90 = y_scores > 2500\n",
    "print(\"Precision\",precision_score(y_train_5, y_train_pred_90))\n",
    "print(\"Recall:\",recall_score(y_train_5, y_train_pred_90))\n",
    "\n",
    "## @remember: If someone says build a classifier with preciion at 99% - ask: at what recall? "
   ]
  },
  {
   "cell_type": "code",
   "execution_count": 29,
   "metadata": {},
   "outputs": [],
   "source": [
    "## Recap of above: \n",
    "## Can plot precision / recall against threshold to find a sweet spot. \n",
    "## Alternatively, plot precision vs recall and find the approx. point where \n",
    "##...precision starts to drop"
   ]
  },
  {
   "cell_type": "code",
   "execution_count": 30,
   "metadata": {},
   "outputs": [],
   "source": [
    "## The ROC curve \n",
    "## Receiver Operating Characteristic curve is another tool to evaluate binary classifiers \n",
    "## Instead of plotting precision vs. recall as seen above, we are plotting\n",
    "## ... True Positive Rate vs. False Positive Rate \n",
    "## TPR = Sensitivity = Recall = TP / (TP + FN) (ie. how many of the actual positives did we capture)\n",
    "## FPR = Specificity = 1-TNR (True Negative Rate) = FP / (FP + TN) = 1 - (TN/(TN+FP)) \n",
    "## ... (ie. Ratio of negative instances that are incorrectly classified as positive)\n",
    "\n",
    "## First compute TPR and FPR (sensitivy, specificity) \n",
    "fpr,tpr,threshold = roc_curve(y_train_5, y_scores)"
   ]
  },
  {
   "cell_type": "code",
   "execution_count": 31,
   "metadata": {},
   "outputs": [
    {
     "data": {
      "image/png": "[encoded data removed]",
      "text/plain": [
       "<Figure size 432x288 with 1 Axes>"
      ]
     },
     "metadata": {
      "needs_background": "light"
     },
     "output_type": "display_data"
    }
   ],
   "source": [
    "def plot_roc_curve(fpr, tpr, label=None):\n",
    "    plt.plot(fpr,tpr,linewidth=2,label=label)\n",
    "    plt.plot([0,1],[0,1],'k--')\n",
    "    plt.axis([0,1,0,1]) # set xmin,xmax,ymin,ymax\n",
    "    plt.xlabel('False Positive Rate')\n",
    "    plt.ylabel('True Positive Rate')\n",
    "plot_roc_curve(fpr,tpr)\n",
    "plt.show()"
   ]
  },
  {
   "cell_type": "code",
   "execution_count": 32,
   "metadata": {},
   "outputs": [
    {
     "data": {
      "text/plain": [
       "0.9623852157339027"
      ]
     },
     "execution_count": 32,
     "metadata": {},
     "output_type": "execute_result"
    }
   ],
   "source": [
    "## To compare classifiers, calc. AUC (Area Under the Curve)\n",
    "## A good classifier will have an ROC curve that hugs the upper left corner \n",
    "## A purely random classifier's perf. is represented by the dotted line \n",
    "roc_auc_score(y_train_5, y_scores)"
   ]
  },
  {
   "cell_type": "code",
   "execution_count": 33,
   "metadata": {},
   "outputs": [],
   "source": [
    "## @note @important: When to use PR curve (Precision/Recall) vs ROC \n",
    "## Use a PR curve when either: \n",
    "## - The positive class is rate \n",
    "## - Care more about false positives than false negatives \n",
    "## PR curve makes it clear that there is room for improvement .\n",
    "## ROC curve can give you false illusion that model is performing well "
   ]
  },
  {
   "cell_type": "code",
   "execution_count": 34,
   "metadata": {},
   "outputs": [
    {
     "name": "stderr",
     "output_type": "stream",
     "text": [
      "/Users/elieharik/miniconda3/envs/analytics_all/lib/python3.7/site-packages/sklearn/ensemble/forest.py:245: FutureWarning: The default value of n_estimators will change from 10 in version 0.20 to 100 in 0.22.\n",
      "  \"10 in version 0.20 to 100 in 0.22.\", FutureWarning)\n",
      "/Users/elieharik/miniconda3/envs/analytics_all/lib/python3.7/site-packages/sklearn/ensemble/forest.py:245: FutureWarning: The default value of n_estimators will change from 10 in version 0.20 to 100 in 0.22.\n",
      "  \"10 in version 0.20 to 100 in 0.22.\", FutureWarning)\n",
      "/Users/elieharik/miniconda3/envs/analytics_all/lib/python3.7/site-packages/sklearn/ensemble/forest.py:245: FutureWarning: The default value of n_estimators will change from 10 in version 0.20 to 100 in 0.22.\n",
      "  \"10 in version 0.20 to 100 in 0.22.\", FutureWarning)\n"
     ]
    }
   ],
   "source": [
    "## Compare to RAndom Forest model \n",
    "forest_clf = RandomForestClassifier(random_state=42)\n",
    "y_probab = cross_val_predict(forest_clf, X_train, y_train_5, cv=3, \n",
    "                          method='predict_proba') \n",
    "\n",
    "## @note: in sklearn, rf does not have decision_func method. \n",
    "## Instead, use predict_proba. Will return rows of probability for each class (each column is a class)"
   ]
  },
  {
   "cell_type": "code",
   "execution_count": 35,
   "metadata": {},
   "outputs": [
    {
     "name": "stdout",
     "output_type": "stream",
     "text": [
      "[[1. 0.]\n",
      " [1. 0.]\n",
      " [1. 0.]\n",
      " ...\n",
      " [1. 0.]\n",
      " [1. 0.]\n",
      " [1. 0.]]\n"
     ]
    },
    {
     "data": {
      "image/png": "[encoded data removed]",
      "text/plain": [
       "<Figure size 432x288 with 1 Axes>"
      ]
     },
     "metadata": {
      "needs_background": "light"
     },
     "output_type": "display_data"
    }
   ],
   "source": [
    "print(y_probab) ## Only 2 classes\n",
    "\n",
    "## Quick hack: Select the Positive class probability as a score \n",
    "y_score_forest = y_probab[:,1]\n",
    "fpr_forest, tpr_forest, threshold_forest = roc_curve(y_train_5, y_score_forest)\n",
    "\n",
    "## Plot ROC curve \n",
    "plot_roc_curve(fpr_forest,tpr_forest, 'Random Forest')\n",
    "plt.plot(fpr,tpr,'b:',label='SGD')\n",
    "plt.legend(loc='lower right')\n",
    "plt.show() ## RF Performs better. "
   ]
  },
  {
   "cell_type": "code",
   "execution_count": 37,
   "metadata": {},
   "outputs": [
    {
     "name": "stdout",
     "output_type": "stream",
     "text": [
      "All decision scores: [[-16304.76616794 -24251.11503318  -4765.07039006   -698.05811914\n",
      "   -5750.28921096  -6187.64726152 -10911.68141722 -16339.86554869\n",
      "    3421.87468211  -4025.82707982]]\n",
      "The class is actually equal to: [  0.   0.   0.   0.   0.   0.   0.   0.   0.   0.   0.   0.   0.   0.\n",
      "   0.   0.   0.   0.   0.   0.   0.   0.   0.   0.   0.   0.   0.   0.\n",
      "   0.   0.   0.   0.   0.   0.   0.   0.   0.   0.   0.   0.   0.   0.\n",
      "   0.   0.   0.   0.   0.   0.   0.   0.   0.   0.   0.   0.   0.   0.\n",
      "   0.   0.   0.   0.   0.   0.   0.   0.   0.   0.   0.   0.   0.   0.\n",
      "   0.   0.   0.   0.   0.   0.   0.   0.   0.   0.   0.   0.   0.   0.\n",
      "   0.   0.   0.   0.   0.   0.   0.   0.   0.   0.   0.   0.   0.   0.\n",
      "   0.   0.   0.   0.   0.   0.   0.   0.   0.   0.   0.   0.   0.   0.\n",
      "   0.   0.   0.   0.   0.   0.   0.   0.   0.   0.   0.   0.   0.   0.\n",
      "   0.   0.   0.   0.   0.   0.   0.   0.   0.   0.   0.   0.   0.   0.\n",
      "   0.   0.   0.   0.   0.   0.   0.   0.   0.  11.  97. 106. 175. 237.\n",
      " 229. 146.  59.   0.   0.   0.   0.   0.   0.   0.   0.   0.   0.   0.\n",
      "   0.   0.   0.   0.   0.   0.   0.   0.  39. 226. 168. 143.  78.  28.\n",
      "  60. 148. 229. 151.  34.   0.   0.   0.   0.   0.   0.   0.   0.   0.\n",
      "   0.   0.   0.   0.   0.   0.   0.   0. 143. 149.   0.   0.   0.   0.\n",
      "   0.   0.  21. 128. 222. 118.   0.   0.   0.   0.   0.   0.   0.   0.\n",
      "   0.   0.   0.   0.   0.   0.   0.   0. 143.  96.   0.   0.   0.   0.\n",
      "   0.   0.   0.   0.  99. 175.   0.   0.   0.   0.   0.   0.   0.   0.\n",
      "   0.   0.   0.   0.   0.   0.   0.   0.  29. 210.  26.   0.   0.   0.\n",
      "   0.   0.   0.   0.  44. 220.   0.   0.   0.   0.   0.   0.   0.   0.\n",
      "   0.   0.   0.   0.   0.   0.   0.   0.   0. 185. 116.   0.   0.   0.\n",
      "   0.   0.   3.  32. 116. 251. 195.  20.   0.   0.   0.   0.   0.   0.\n",
      "   0.   0.   0.   0.   0.   0.   0.   0.   0.  65. 216.  58.   0.   0.\n",
      "  31. 118. 199. 248. 223. 207.  60.   0.   0.   0.   0.   0.   0.   0.\n",
      "   0.   0.   0.   0.   0.   0.   0.   0.   0.   0.  93. 212.  63. 163.\n",
      " 237. 152.  93.  39.   0.  15.   0.   0.   0.   0.   0.   0.   0.   0.\n",
      "   0.   0.   0.   0.   0.   0.   0.   0.   0.   0.   0. 146. 255. 255.\n",
      " 100.   0.   0.   0.   0.   0.   0.   0.   0.   0.   0.   0.   0.   0.\n",
      "   0.   0.   0.   0.   0.   0.   0.   0.   0.   0.   6. 206. 189. 195.\n",
      " 250.  26.   0.   0.   0.   0.   0.   0.   0.   0.   0.   0.   0.   0.\n",
      "   0.   0.   0.   0.   0.   0.   0.   0.   0.   0. 127. 198.  15.   0.\n",
      " 126. 251.  79.   0.   0.   0.   0.   0.   0.   0.   0.   0.   0.   0.\n",
      "   0.   0.   0.   0.   0.   0.   0.   0.   0.   0. 175.  64.   0.   0.\n",
      "   0.  99. 239. 106.   0.   0.   0.   0.   0.   0.   0.   0.   0.   0.\n",
      "   0.   0.   0.   0.   0.   0.   0.   0.   0.   0. 232.  32.   0.   0.\n",
      "   0.   0.  56. 237.  81.   0.   0.   0.   0.   0.   0.   0.   0.   0.\n",
      "   0.   0.   0.   0.   0.   0.   0.   0.   0.   0. 173.  16.   0.   0.\n",
      "   0.   0.   0.  93. 227.   9.   0.   0.   0.   0.   0.   0.   0.   0.\n",
      "   0.   0.   0.   0.   0.   0.   0.   0.   0.   0. 175.  64.   0.   0.\n",
      "   0.   0.   0.  18. 210. 116.   0.   0.   0.   0.   0.   0.   0.   0.\n",
      "   0.   0.   0.   0.   0.   0.   0.   0.   0.   0. 117. 150.   3.   0.\n",
      "   0.   0.   0.   0.  91. 199.   6.   0.   0.   0.   0.   0.   0.   0.\n",
      "   0.   0.   0.   0.   0.   0.   0.   0.   0.   0.   4. 172. 108.   0.\n",
      "   0.   0.   0.   0.   0. 239.  80.   0.   0.   0.   0.   0.   0.   0.\n",
      "   0.   0.   0.   0.   0.   0.   0.   0.   0.   0.   0.  66. 192.   6.\n",
      "   0.   0.   0.   0.  63. 247.  15.   0.   0.   0.   0.   0.   0.   0.\n",
      "   0.   0.   0.   0.   0.   0.   0.   0.   0.   0.   0.   0. 137. 182.\n",
      "  94.   0.   9. 105. 241. 120.   0.   0.   0.   0.   0.   0.   0.   0.\n",
      "   0.   0.   0.   0.   0.   0.   0.   0.   0.   0.   0.   0.   8.  86.\n",
      " 170. 215. 231. 175. 129.   6.   0.   0.   0.   0.   0.   0.   0.   0.\n",
      "   0.   0.   0.   0.   0.   0.   0.   0.   0.   0.   0.   0.   0.   0.\n",
      "   0.   0.   0.   0.   0.   0.   0.   0.   0.   0.   0.   0.   0.   0.\n",
      "   0.   0.   0.   0.   0.   0.   0.   0.   0.   0.   0.   0.   0.   0.\n",
      "   0.   0.   0.   0.   0.   0.   0.   0.   0.   0.   0.   0.   0.   0.\n",
      "   0.   0.   0.   0.   0.   0.   0.   0.   0.   0.   0.   0.   0.   0.\n",
      "   0.   0.   0.   0.   0.   0.   0.   0.   0.   0.   0.   0.   0.   0.]\n"
     ]
    }
   ],
   "source": [
    "## Multiclass Classification \n",
    "\n",
    "## For alogrithms that are not able to do multiclass classification:\n",
    "## Two strategies: \n",
    "## 1. One vs all:\n",
    "## ... If want to train n labels, train n classifiers for each class. To determine the label of an instance \n",
    "## ... select the highest decision score between all classifiers\n",
    "## 2. One vs one\n",
    "## .. Build a binary classifier for every pair of labels (e.g. for digits -> 0 vs 1, 0vs2 etc...)\n",
    "## .. Will need N * (N-1) / 2 classifiers \n",
    "## .. To predict a label, need to run instance through each of the classifiers and see which \n",
    "## .. class wins the most 'duels'\n",
    "## Pros of one vs one: Each binary classifier only needs to be trained on the part of the training \n",
    "## set for the two classes that it must distinguish \n",
    "## SVM scales badly with large datasets, and so using One vs One might be better for algorithms \n",
    "## that require smaller data sets. \n",
    "\n",
    "## Example with sgd classifier \n",
    "sgd_clf.fit(X_train, y_train)\n",
    "sgd_clf.predict([some_digit])\n",
    "\n",
    "## What happens behind the scenes: \n",
    "## Scikit learn identifies this as a multiclass classification problem \n",
    "## .. and adopts the one vs all strategy to predict the classes. \n",
    "## .. Therefore, 10 binary classifiers are fit, each identifying \n",
    "## .. a class vs. all other classes. When doing predictions \n",
    "## .. the instance is fit to all classifiers, and the decision scores \n",
    "## .. are evaluated. The class with the highest score is selected. \n",
    "\n",
    "## Check with the decision_function method \n",
    "## Instad of one score being returned, the decision score for all classes (10)\n",
    "## are returned \n",
    "some_digit_scores = sgd_clf.decision_function([some_digit])\n",
    "print(\"All decision scores: {}\".format(some_digit_scores))\n",
    "# print(\"The class is actually equal to: {}\".format(some_digit))"
   ]
  },
  {
   "cell_type": "code",
   "execution_count": 39,
   "metadata": {},
   "outputs": [
    {
     "name": "stdout",
     "output_type": "stream",
     "text": [
      "Top score 8\n",
      "List of target classes stored by classifier: [0 1 2 3 4 5 6 7 8 9]\n",
      "Selected class in said list: 8\n"
     ]
    }
   ],
   "source": [
    "## Looking at scores for sgd classifier (and which class is predicted)\n",
    "print(\"Top score is in index {}\".format(np.argmax(some_digit_scores))) \n",
    "print(\"List of target classes stored by classifier: {}\".format(sgd_clf.classes_))\n",
    "print(\"Selected class in said list: {}\".format(sgd_clf.classes_[np.argmax(some_digit_scores)]))"
   ]
  },
  {
   "cell_type": "code",
   "execution_count": 43,
   "metadata": {},
   "outputs": [
    {
     "name": "stdout",
     "output_type": "stream",
     "text": [
      "Predicted class:[8]\n",
      "Number of estimators for ovo: 45\n"
     ]
    }
   ],
   "source": [
    "## How about if want to force one vs all or one vs one? \n",
    "## Use the OneVsOneClassifier or OneVsRestClassifier classes \n",
    "## .. and pass a binary classifier to its constructor\n",
    "from sklearn.multiclass import OneVsOneClassifier\n",
    "ovo_clf = OneVsOneClassifier(SGDClassifier(random_state=42))\n",
    "ovo_clf.fit(X_train, y_train)\n",
    "print(\"Predicted class:{}\".format(ovo_clf.predict([some_digit])))\n",
    "print(\"Number of estimators for ovo: {}\".format(len(ovo_clf.estimators_))) ## Will be 45 \n"
   ]
  },
  {
   "cell_type": "code",
   "execution_count": null,
   "metadata": {},
   "outputs": [],
   "source": [
    "## Now train a random forest - will not require OvA or OvO \n",
    "forest_clf.predict_proba([some_digit]) # Will return probability for each class "
   ]
  },
  {
   "cell_type": "code",
   "execution_count": null,
   "metadata": {},
   "outputs": [],
   "source": [
    "## Evaluate the SGD classier with CV \n",
    "print(\"CV perf of SGD: {}\".format(cross_val_score(sgd_clf, X_train, y_train, cv = 3, scoring = 'accuracy')))\n",
    "\n",
    "## Performance not great - Scale as recommended in chap 2: \n",
    "from sklearn.preprocessing import StandardScaler\n",
    "scaler = StandardScaler() \n",
    "X_train_scaled = scaler.fit_transform(X_train.astype(np.float64))\n",
    "print(\"CV perf of scaled SGD: {}\".format(cross_val_score(sgd_clf, X_train_scaled, y_train, cv = 3, scoring = 'accuracy'))"
   ]
  },
  {
   "cell_type": "code",
   "execution_count": null,
   "metadata": {},
   "outputs": [],
   "source": []
  }
 ],
 "metadata": {
  "kernelspec": {
   "display_name": "Python 3",
   "language": "python",
   "name": "python3"
  },
  "language_info": {
   "codemirror_mode": {
    "name": "ipython",
    "version": 3
   },
   "file_extension": ".py",
   "mimetype": "text/x-python",
   "name": "python",
   "nbconvert_exporter": "python",
   "pygments_lexer": "ipython3",
   "version": "3.7.2"
  }
 },
 "nbformat": 4,
 "nbformat_minor": 2
}
